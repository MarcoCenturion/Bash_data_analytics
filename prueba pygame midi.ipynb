{
 "cells": [
  {
   "cell_type": "code",
   "execution_count": 1,
   "id": "b2d9f10f",
   "metadata": {},
   "outputs": [
    {
     "name": "stdout",
     "output_type": "stream",
     "text": [
      "pygame 2.1.0 (SDL 2.0.16, Python 3.9.7)\n",
      "Hello from the pygame community. https://www.pygame.org/contribute.html\n"
     ]
    }
   ],
   "source": [
    "import pygame"
   ]
  },
  {
   "cell_type": "code",
   "execution_count": 2,
   "id": "94144075",
   "metadata": {},
   "outputs": [],
   "source": [
    "sonido = \"Zaz - La Vie En Rose-1sTcGHbjVyE.mp3\""
   ]
  },
  {
   "cell_type": "code",
   "execution_count": 3,
   "id": "e0186d20",
   "metadata": {},
   "outputs": [],
   "source": [
    "midi = \"Yann_Tiersen_-_Une_Comptine_Dun_Autre__MichielBaltus_20110321221246.mid\""
   ]
  },
  {
   "cell_type": "code",
   "execution_count": 4,
   "id": "123bc060",
   "metadata": {},
   "outputs": [
    {
     "data": {
      "text/plain": [
       "(5, 0)"
      ]
     },
     "execution_count": 4,
     "metadata": {},
     "output_type": "execute_result"
    }
   ],
   "source": [
    "pygame.init()"
   ]
  },
  {
   "cell_type": "code",
   "execution_count": 7,
   "id": "b422975e",
   "metadata": {
    "scrolled": true
   },
   "outputs": [],
   "source": [
    "pygame.mixer.music.load(sonido)"
   ]
  },
  {
   "cell_type": "code",
   "execution_count": 8,
   "id": "68a75f14",
   "metadata": {},
   "outputs": [
    {
     "name": "stdout",
     "output_type": "stream",
     "text": [
      "zsh:1: permiso denegado: /etc/\r\n"
     ]
    }
   ],
   "source": [
    "!/etc/"
   ]
  },
  {
   "cell_type": "code",
   "execution_count": 9,
   "id": "f6da2108",
   "metadata": {},
   "outputs": [],
   "source": [
    "pygame.mixer.music.play()"
   ]
  },
  {
   "cell_type": "code",
   "execution_count": 10,
   "id": "1b09803c",
   "metadata": {},
   "outputs": [],
   "source": [
    "pygame.mixer.music.stop()"
   ]
  },
  {
   "cell_type": "code",
   "execution_count": 32,
   "id": "4d7d27b6",
   "metadata": {},
   "outputs": [],
   "source": [
    "intro = pygame.mixer.Sound(sonido)"
   ]
  },
  {
   "cell_type": "code",
   "execution_count": 11,
   "id": "3d0e1eca",
   "metadata": {},
   "outputs": [
    {
     "data": {
      "text/plain": [
       "str"
      ]
     },
     "execution_count": 11,
     "metadata": {},
     "output_type": "execute_result"
    }
   ],
   "source": [
    "type(midi)"
   ]
  },
  {
   "cell_type": "code",
   "execution_count": 29,
   "id": "b8f501be",
   "metadata": {},
   "outputs": [
    {
     "data": {
      "text/plain": [
       "'Yann_Tiersen_-_Une_Comptine_Dun_Autre__MichielBaltus_20110321221246.mid'"
      ]
     },
     "execution_count": 29,
     "metadata": {},
     "output_type": "execute_result"
    }
   ],
   "source": [
    "midi"
   ]
  },
  {
   "cell_type": "code",
   "execution_count": 30,
   "id": "7e7962df",
   "metadata": {},
   "outputs": [
    {
     "name": "stdout",
     "output_type": "stream",
     "text": [
      "Yann_Tiersen_-_Une_Comptine_Dun_Autre__MichielBaltus_20110321221246.mid\n"
     ]
    }
   ],
   "source": [
    "print(midi)"
   ]
  },
  {
   "cell_type": "code",
   "execution_count": 36,
   "id": "1dbb719e",
   "metadata": {},
   "outputs": [],
   "source": [
    "intro.stop()"
   ]
  },
  {
   "cell_type": "code",
   "execution_count": 40,
   "id": "27cd24d0",
   "metadata": {},
   "outputs": [
    {
     "name": "stdout",
     "output_type": "stream",
     "text": [
      "2.48 s ± 88.7 ms per loop (mean ± std. dev. of 7 runs, 1 loop each)\n"
     ]
    }
   ],
   "source": [
    "%timeit pygame.mixer.SoundType(sonido)"
   ]
  },
  {
   "cell_type": "code",
   "execution_count": null,
   "id": "caaa31e7",
   "metadata": {},
   "outputs": [],
   "source": []
  }
 ],
 "metadata": {
  "kernelspec": {
   "display_name": "Python 3 (ipykernel)",
   "language": "python",
   "name": "python3"
  },
  "language_info": {
   "codemirror_mode": {
    "name": "ipython",
    "version": 3
   },
   "file_extension": ".py",
   "mimetype": "text/x-python",
   "name": "python",
   "nbconvert_exporter": "python",
   "pygments_lexer": "ipython3",
   "version": "3.9.7"
  }
 },
 "nbformat": 4,
 "nbformat_minor": 5
}
