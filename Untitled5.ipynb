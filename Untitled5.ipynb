{
 "cells": [
  {
   "cell_type": "code",
   "execution_count": 14,
   "id": "dae4a4f1-a97d-41d3-96d9-b371ed85ba2e",
   "metadata": {},
   "outputs": [],
   "source": [
    "turistas_edad_url <- \"http://datos.yvera.gob.ar/dataset/945e10f1-eee7-48a2-b0ef-8aff11df8814/resource/abdacfcd-4a6c-4283-9abb-c1352def52e1/download/tur_int_turistas_residentes_edad_serie.csv\""
   ]
  },
  {
   "cell_type": "code",
   "execution_count": 15,
   "id": "b70d3c45-f5f8-480c-a235-c33f4e17ffef",
   "metadata": {},
   "outputs": [],
   "source": [
    "turistas_edad_archivo <- \"datos/turistas_edad.csv\""
   ]
  },
  {
   "cell_type": "code",
   "execution_count": 16,
   "id": "64b6c462-f4b9-4aac-82f4-4fa2c1015109",
   "metadata": {},
   "outputs": [
    {
     "name": "stderr",
     "output_type": "stream",
     "text": [
      "Warning message in download.file(url = turistas_edad_url, destfile = turistas_edad_archivo):\n",
      "“URL http://datos.yvera.gob.ar/dataset/945e10f1-eee7-48a2-b0ef-8aff11df8814/resource/abdacfcd-4a6c-4283-9abb-c1352def52e1/download/tur_int_turistas_residentes_edad_serie.csv: cannot open destfile 'datos/turistas_edad.csv', reason 'No existe el fichero o el directorio'”\n",
      "Warning message in download.file(url = turistas_edad_url, destfile = turistas_edad_archivo):\n",
      "“download had nonzero exit status”\n"
     ]
    }
   ],
   "source": [
    "download.file(url = turistas_edad_url, destfile = turistas_edad_archivo)  "
   ]
  },
  {
   "cell_type": "code",
   "execution_count": 17,
   "id": "626a3d1a-598c-4a17-8182-72075072932a",
   "metadata": {},
   "outputs": [
    {
     "name": "stderr",
     "output_type": "stream",
     "text": [
      "\u001b[1mRows: \u001b[22m\u001b[34m231\u001b[39m \u001b[1mColumns: \u001b[22m\u001b[34m3\u001b[39m\n",
      "\u001b[36m──\u001b[39m \u001b[1mColumn specification\u001b[22m \u001b[36m─────────────────────────────────────────────────────────────────────────────────────────────────────────────────────────\u001b[39m\n",
      "\u001b[1mDelimiter:\u001b[22m \",\"\n",
      "\u001b[31mchr\u001b[39m  (1): edad\n",
      "\u001b[32mdbl\u001b[39m  (1): turistas\n",
      "\u001b[34mdate\u001b[39m (1): indice_tiempo\n",
      "\n",
      "\u001b[36mℹ\u001b[39m Use `spec()` to retrieve the full column specification for this data.\n",
      "\u001b[36mℹ\u001b[39m Specify the column types or set `show_col_types = FALSE` to quiet this message.\n"
     ]
    }
   ],
   "source": [
    "library(readr)\n",
    "turistas_edad <- read_csv(\"/home/marco/Descargas/turistas_edad.csv\")"
   ]
  },
  {
   "cell_type": "code",
   "execution_count": 18,
   "id": "198af743-5bbe-43fc-9a4c-d67faea557fb",
   "metadata": {},
   "outputs": [
    {
     "name": "stderr",
     "output_type": "stream",
     "text": [
      "Installing package into ‘/home/marco/R/x86_64-pc-linux-gnu-library/4.4’\n",
      "(as ‘lib’ is unspecified)\n",
      "\n"
     ]
    },
    {
     "ename": "ERROR",
     "evalue": "Error in !install.packages(\"readr\"): argumento de tipo inválido\n",
     "output_type": "error",
     "traceback": [
      "Error in !install.packages(\"readr\"): argumento de tipo inválido\nTraceback:\n"
     ]
    }
   ],
   "source": [
    "!install.packages('readr')"
   ]
  },
  {
   "cell_type": "code",
   "execution_count": null,
   "id": "997c2b74-9ac7-4624-9ca3-54f9906ca85d",
   "metadata": {},
   "outputs": [],
   "source": [
    "str(turistas_edad)"
   ]
  },
  {
   "cell_type": "code",
   "execution_count": null,
   "id": "20758c9d-ee3d-4201-8a4e-6143d05b8197",
   "metadata": {},
   "outputs": [],
   "source": []
  }
 ],
 "metadata": {
  "kernelspec": {
   "display_name": "R",
   "language": "R",
   "name": "ir"
  },
  "language_info": {
   "codemirror_mode": "r",
   "file_extension": ".r",
   "mimetype": "text/x-r-source",
   "name": "R",
   "pygments_lexer": "r",
   "version": "4.4.1"
  }
 },
 "nbformat": 4,
 "nbformat_minor": 5
}
