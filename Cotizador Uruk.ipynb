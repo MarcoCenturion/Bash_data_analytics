{
 "cells": [
  {
   "cell_type": "markdown",
   "id": "d0227365",
   "metadata": {},
   "source": [
    "![title](logo_uruk2.png)"
   ]
  },
  {
   "cell_type": "markdown",
   "id": "bc2a5233",
   "metadata": {},
   "source": [
    "# Cotizador\n",
    "\n",
    "* Declaramos las variables para la cotizacion\n",
    "* Importamos las librerías\n",
    "* "
   ]
  },
  {
   "cell_type": "code",
   "execution_count": 1,
   "id": "e5106d65",
   "metadata": {},
   "outputs": [],
   "source": [
    "from datetime import date\n",
    "from datetime import datetime\n",
    "from datetime import timedelta\n",
    "from IPython.core.display import HTML\n",
    "from IPython.display import display, Image"
   ]
  },
  {
   "cell_type": "code",
   "execution_count": 2,
   "id": "5dc5b0ad",
   "metadata": {},
   "outputs": [
    {
     "data": {
      "text/html": [
       "<style>\n",
       "body {\n",
       "    margin: 0;\n",
       "    font-family: courier-bold;\n",
       "}\n",
       "table.dataframe {\n",
       "    border-collapse: collapse;\n",
       "    border: none;\n",
       "}\n",
       "table.dataframe tr {\n",
       "    border: none;\n",
       "}\n",
       "table.dataframe td, table.dataframe th {\n",
       "    margin: 0;\n",
       "    border: 1px solid withe;\n",
       "    padding-left: 0.25em;\n",
       "    padding-right: 0.25em;\n",
       "}\n",
       "table.dataframe th:not(:empty) {\n",
       "    background-color: #F78014;\n",
       "    text-align: left;\n",
       "    font-weight: normal;\n",
       "}\n",
       "table.dataframe tr:nth-child(2) th:empty {\n",
       "    border-left: none;\n",
       "    border-right: 1px dashed #b03a2e;\n",
       "}\n",
       "table.dataframe td {\n",
       "    border: 2px solid #b03a2e;\n",
       "    background-color: #f9d000;\n",
       "}\n",
       "</style>"
      ],
      "text/plain": [
       "<IPython.core.display.HTML object>"
      ]
     },
     "execution_count": 2,
     "metadata": {},
     "output_type": "execute_result"
    }
   ],
   "source": [
    "## Hermoseador CSS\n",
    "\n",
    "CSS = \"\"\"\n",
    "body {\n",
    "    margin: 0;\n",
    "    font-family: courier-bold;\n",
    "}\n",
    "table.dataframe {\n",
    "    border-collapse: collapse;\n",
    "    border: none;\n",
    "}\n",
    "table.dataframe tr {\n",
    "    border: none;\n",
    "}\n",
    "table.dataframe td, table.dataframe th {\n",
    "    margin: 0;\n",
    "    border: 1px solid withe;\n",
    "    padding-left: 0.25em;\n",
    "    padding-right: 0.25em;\n",
    "}\n",
    "table.dataframe th:not(:empty) {\n",
    "    background-color: #F78014;\n",
    "    text-align: left;\n",
    "    font-weight: normal;\n",
    "}\n",
    "table.dataframe tr:nth-child(2) th:empty {\n",
    "    border-left: none;\n",
    "    border-right: 1px dashed #b03a2e;\n",
    "}\n",
    "table.dataframe td {\n",
    "    border: 2px solid #b03a2e;\n",
    "    background-color: #f9d000;\n",
    "}\n",
    "\"\"\"\n",
    "\n",
    "HTML('<style>{}</style>'.format(CSS))"
   ]
  },
  {
   "cell_type": "code",
   "execution_count": 3,
   "id": "fd030aff",
   "metadata": {},
   "outputs": [],
   "source": [
    "## Funcion de hermosear\n",
    "\n",
    "\n",
    "def render_mpl_table(data, col_width=45.0, row_height=0.500, font_size=9\n",
    "                     ,\n",
    "                     header_color='#bb936c', row_colors=['#c87162', 'w'], edge_color='w',\n",
    "                     bbox=[0, 0, 1, 1], header_columns=0,\n",
    "                     ax=None, **kwargs):\n",
    "    if ax is None:\n",
    "        size = (np.array(data.shape[::-1]) + np.array([0, 1])) * np.array([col_width, row_height])\n",
    "        fig, ax = plt.subplots(figsize=size)\n",
    "        ax.axis('off')\n",
    "\n",
    "    mpl_table = ax.table(cellText=data.values, bbox=bbox, colLabels=data.columns, **kwargs)\n",
    "\n",
    "    mpl_table.auto_set_font_size(False)\n",
    "    mpl_table.set_fontsize(font_size)\n",
    "\n",
    "    for k, cell in  six.iteritems(mpl_table._cells):\n",
    "        cell.set_edgecolor(edge_color)\n",
    "        if k[0] == 0 or k[1] < header_columns:\n",
    "            cell.set_text_props(weight='bold', color='w')\n",
    "            cell.set_facecolor(header_color)\n",
    "        else:\n",
    "            cell.set_facecolor(row_colors[k[0]%len(row_colors) ])\n",
    "    return ax\n"
   ]
  },
  {
   "cell_type": "code",
   "execution_count": 4,
   "id": "f4ff15ca",
   "metadata": {},
   "outputs": [],
   "source": [
    "# Variables a tener en cuenta\n",
    "\n",
    "ahora = datetime.now()\n",
    "TipoCambio = 105.75\n",
    "GastoOperador = 15\n",
    "FeeUruk = 100\n",
    "Condiciones = open('/home/marco/CondicionesGenerales.txt')\n",
    "\n",
    "vencimiento = ahora + timedelta(hours = 24)\n",
    "vencimiento_formateado = vencimiento.strftime('Vencimiento de la reserva :%d/%m/%Y %H:%M')"
   ]
  },
  {
   "cell_type": "markdown",
   "id": "728a9988",
   "metadata": {},
   "source": [
    "### Ingresar Costo Operador\n",
    "\n",
    "Y dibujar la cotización"
   ]
  },
  {
   "cell_type": "code",
   "execution_count": 5,
   "id": "db47f3c9",
   "metadata": {},
   "outputs": [
    {
     "name": "stdout",
     "output_type": "stream",
     "text": [
      "158918\n",
      "Sapag\n",
      "\n",
      "\n",
      "---------\n",
      "\n",
      "Vencimiento de la reserva :26/11/2021 10:52\n",
      "El precio de venta es: ARS 171079.25\n"
     ]
    }
   ],
   "source": [
    "NetoOperador = input()\n",
    "Pax = input()\n",
    "ttlfee = (FeeUruk+GastoOperador)*TipoCambio\n",
    "Venta = int(NetoOperador)+ttlfee\n",
    "print('\\n\\n---------')\n",
    "print('')\n",
    "print(vencimiento_formateado)\n",
    "print(\"El precio de venta es: ARS \"+str(Venta))"
   ]
  },
  {
   "cell_type": "code",
   "execution_count": 46,
   "id": "0dcf044c",
   "metadata": {},
   "outputs": [
    {
     "name": "stdout",
     "output_type": "stream",
     "text": [
      "El presente reglamento contiene las condiciones generales de contratación de servicios turísticos, sin que las mismas puedan ser consideradas taxativas sino meramente enunciativas, regulándose la totalidad de las consecuencias del presente de acuerdo a la ley 18.829, Decreto 2182/72 y susreglamentaciones. En todo caso que se requiera INFORMES SOBRE SERVICIOS Y/O TARIFAS, estos se consideraran meramente orientativos y no generaran responsabilidad o consecuencia alguna a loscontratantes. Las solici-tudes de servicios se regirán por las condiciones que a continuación se detallan, a la ley 18.829, decreto 2182/72 y toda otra normativa concordantes con estas.\n",
      "\n",
      "I) PRECIO– CONDICIONES DE PAGO: 1) El precio estimado en el momento de la solicitud de servicios y/o reservación de los mismos quedan sujetos a modificaciones sin previo aviso cuando se produzca algunade las siguientes circunstancias: alteración en los servicios, modificaciones en los costos y/o modificación en los tipos de cambio previsto en la solicitud. 2) Todos los importes pagados antes de la confirmación definitiva de los servicios son percibidos solo en concepto de reserva. La confirmación definitiva de los servicios y sus respectivos precios finales se producirá mediante el pago del saldo final resultante del precio, la emisión de pasajes y/o vouchers de servicios, etc. y la facturación correspondiente. 3) Los servicios requeridos deben ser abonados en su totalidad antes de la fecha de partida, en caso contrario, la empresa se reservará el derecho a cancelar la solicitud de servicios sin previo aviso, con cargo al solicitante según lo detallado en la cláusula Cancelaciones.. 4) Las operaciones a crédito deberán satisfacer los requisitos propios fijados para las mismas. En su defecto el interesado deberá cumplimentar el pago de los saldos en los plazos y condiciones establecidos en los incisos anteriores. 5) Tarifas aéreas: cada operación aérea se regirá por las condiciones especiales de la tarifa y compañía aérea correspondiente.-\n",
      "\n",
      "II) EL SERVICIO - INCLUSIONES: Los servicios incluiran lo que se especifica expresamente en cada itinerario. En los casos en los que se incluye transporte, éste se brinda de acuerdo al itinerario y al medio elegido. Los tours aéreos programados pueden ser operados en vuelos de líneas regulares, vuelos especiales, no regulares o charters y de acuerdo a los destinos con o sin escalas y/o conexiones. Alojamiento en los hoteles mencionados en los itinerarios u otros de igual o mayor categoría, ocupando habitaciones simples, dobles, triples, etc. Según tarifa elegida, con baño privado e impuestos. Las categorías de los hoteles, que se incluyan en los itinerarios, son las oficiales otorgadas por las autoridades turísticas del país donde aquellos se encuentran y su otorgamiento y control es administrativo. La Empresa no asume responsabilidad alguna sobre los criterios que rijan ese control y otorgamiento. En caso de contratarse alojamiento en habitación triple, el cliente reconoce estar informado de que en la mayoría de los hoteles, las habitaciones triples no existen como tales, sino que se trata de una habitación doble con cama adicional e incluso en algunos casos sus condiciones de confort son más reducidas que las dobles. Las limitacionesde espacio o comodidad que este tipo de alojamiento pudiera implicar son aceptadas por los clientes, eximiendo al hotel y a la Empresa de cualquier responsabilidad al respecto. La duración del tour será indicada en cada caso tomando como primer día, el de salida y como último incluido el día de salida dedestino, independientemente del horario de salida o de llegada en el primer día o en el último. C) SERVICIOS EXCLUSIONES: No se encuentra incluido dentro del servicio lo que no se encuentre expresamente indicado, tal como: impuestos, extras, estadías, comidas y/o gastos adicionales o perjuicios producidos por cancelaciones, demoras en las salidas o llegadas de los medios de transporte, o por razones imprevistas ajenas a la empresa,los gastos eintereses en las operaciones a crédito, aranceles por gestión de reservas. Siendo la presente lista meramente enunciativa y a modo ejemplificativo.\n",
      "\n",
      "III) DOCUMENTOS DE VIAJE: Para los viajes al exterior es necesario atender la legislación vigente de cada destino del tour. En cada caso la Empresa debera informar fehacientemente y con anticipación suficiente sobre los requisitos que exigen las autoridades migratorias, aduaneras y sanitarias de los destinos que incluye el tour y de nuestro país, siendo responsabilidad exclusiva del pasajero contar con la documentación personal que exijan las autoridades mencionadas anteriormente. Por ello la Empresa deslinda toda responsabilidad por la tramitación y vigencia de la documentación del pasajero y los inconvenientes que por tal causa pudiera sufrir el mismo, a cuyo cargo serán los gastos que correspondan por demoras o abandono del tour motivados por falta o deficiencia de la documentación necesaria.\n",
      "\n",
      "IV) LIMITACIONES AL DERECHO DE PERMANENCIA: La Empresa se reserva el derecho de hacer que uno o mas pasajeros abandonen el tour en cualquier punto del mismo, recurriendo a la fuerza pública si fuera necesario, a aquel pasajero cuya conducta, modo de obrar, estado de salud u otras razones graves a juicio de la Empresa provoque peligro o cause molestias a los restantes viajeros o pueda malograr el éxito de la excursión o el normal desarrollo de la misma, sin derecho a reembolso por servicios restantesno utilizados.\n",
      "\n",
      "V) CANCELACIONES DE SERVICIOS: 1) La fecha de cancelación será establecida al día que la Empresa reciba por medio fehaciente la comunicación del pasajero en tal sentido. 2) En caso de desistimiento de operaciones a crédito no tendrán reembolsolos importes abonados en concepto de informe, gastos administrativos, sellados e intereses. 3) Cuando se trate de desistimientos que afecten a servicios contratados en firme por la Empresa, el reembolso de los mismos estará sujeto a las condiciones contractuales bajo las cuales presten sus servicios los prestadores respectivos. En el caso de la hotelería individual, los hoteles cobrarán una o más oches de penalidad para cancelaciones realizadas dentro de las 72 hs. antes del arribo de los pasajeros. Ferias, exposiciones y otros eventos tienen políticas de cancelación especiales. Rogamos consultar en cada caso. En todos los casos de reintegros, si los hubiere, la Empresa podrá retener el precio o valor de los gastos incurridos más la comisión del diez por ciento de los servicios contratados y/o reservados con terceros (art. 21 dec ley 2182/72). 4) Una vez comenzado el viaje, los clientes que voluntariamente desistan de utilizar cualquier servicio incluido en el programa, no tendrán derecho a exigir devolución por los servicios dejados de tomar voluntariamente.-\n",
      "\n",
      "VI) TRANSPORTE NO REGULAR O CHARTER: Al momento de la contratación los pasajeros deberán abonar la totalidad del servicio de transporte no regular o charter más la seña correspondiente a los servicios terrestres. En caso de desistimiento por parte del pasajero, cualesquiera fueran los motivos, rige lo estipulado en el punto anterior. Sin perjuicio de ello, en estos casos el pasajero perderá la totalidad de lo abonado en concepto de transporte no regular o charter y sólo se reintegrará la proporción del precio correspondiente a los servicios terrestres (hotelería, pensión, excursiones) que determine el organizador según la modalidad con que operen los prestadores de los servicios. Para que esta cláusula sea válida deberá determinarse en el primer documento entregado al pasajero la calidad y tipo del transporte.\n",
      "\n",
      "VII) REEMBOLSOS: Todas las reclamaciones de reembolso deberán ser dirigidas por escrito a la Agencia dentro de los 30 días siguientes al de la terminación del tour.\n",
      "\n",
      "VIII) CESION Y TRANSFERENCIA: El derecho que confiere al cliente el contrato de servicios turísticos, podrá ser cedido o transferido a otras personas hasta 30 días antes de la fecha de salida, debiendo ello ser comunicado a la Empresa fehacientemente. Será aceptada por la Empresa siempre que no se opongan a ello las prescripciones del transportista, del hotelero o prestador de los servicios. En los supuestos que los pasajeros sean de distintas edades (mayores-menores), se ajustará el precio según tarifarios. En todos los casos de cesión o transferencia, la Empresa podrá percibir un sobreprecio del 10% del monto convenido.\n",
      "\n",
      "IX) CARÁCTER – REPRESENTACION - RESPONSABILIDAD: URUK TRAVEL - ARGO CONSULTORA SAS (E.V.T. Leg 18090.– Resol.) declara expresamente que actúa en el carácter de intermediaria en la reserva o contratación de los distintos servicios vinculados e incluidos en el respectivo tour o reservación de servicios: hoteles, restaurantes, medios de transporte u otros prestadores. Por consiguiente, la empresa declina toda responsabilidad por deficiencias en la prestación de cualquiera de estos servicios, como así también por daños y perjuicios que pudieran sufrir los pasajeros en las personas y en los bienes cualquiera sea la causa que los origine, retraso, postergaciones, cancelaciones o irregularidades que pudieran ocurrir durante la ejecución de los servicios a las personas que efectúen el viaje por su mediación, así como deterioro, perdida o extravío del equipaje y demás objetos de su propiedad, ya que esta responsabilidad es exclusivamente a cargo de los respectivos prestadores de los servicios. No obstante ello, las responsabilidades de la Empresa, sea que intervenga como organizadora o intermediaria de viaje será determinada conforme las disposiciones contenidas en la Convención Internacional Relativa al Contrato de Viaje aprobada por Ley Nº 19.918 La Empresa no se responsabiliza por cualquier hecho del cliente, hecho de un tercero por el cual no se deba responder o hechos que se produzcan por caso fortuito o fuerza mayor, fenómenos climáticos o hechos de la naturaleza y demás sucesos que puedan ocurrir fuera del control de la misma, que acontezcan antes o durante el desarrollo del tour que impidan, demoren o de cualquier modo obstaculicen la ejecución total o parcial de las prestaciones organizadas y/o reservadas por la Empresa, de conformidad con lo dispuesto por el Código Civil. Las compañías transportadoras no son responsables de cualquier acto,omisión o irregularidad mientras los pasajeros no estén abordo de sus unidades. El contrato de transporte (billete, pasaje, ticket) en uso de las compañías transportadoras comprometidas en el desarrollo de nuestros programas, cuando esté emitido, constituirá el único contrato entre las mismas y el comprador de la excursión y/o pasajero. Asimismo, la Empresa declina toda responsabilidad por retrasos, adelantos o anulaciones que se produzcan por parte de las compañías transportadoras o por eventuales daños ocasionados al pasajero en el lapso en el cual la compañía transportadora se hace cargo del traslado del viajero.\n",
      "\n",
      "X) ALTERACIONES O MODIFICACIONES: 1) La Empresa se reserva el derecho, por razones técnicas y operativas, de programación o para su mejor desarrollo, de postergar una determinada salida o de alterar total o parcialmente el ordenamiento diario y/o de los servicios que componen el tour, antes o durante la ejecución del mismo. 2) Si el viaje tuviera que prolongarse más allá de los términos fijados, por causas no imputables a la Empresa, ésta deslinda expresamente la responsabilidad de continuar brindando alojamiento en el hotel previsto, siendo los gastos que se originen por cuenta del pasajero. 3) Salvo condición expresa en contrario, los hoteles estipulados podrán ser cambiados por otro de igual o mayor categoría sin cargo alguno para el pasajero. Respecto de estas variaciones el pasajero no tendrá derecho a indemnización alguna. 4) La Empresa podrá anular cualquier tour cuando se configure alguna de las circunstancias previstas en el art. 24 del Decreto Nº 2182/72. En tal caso la Empresa sólo queda obligada al reintegro de los importes percibidos al día de la cancelación, sin derecho del pasajero a indemnización alguna. 5) Una vez comenzado el viaje, la suspensión, modificación o interrupción de los servicios por parte del pasajero por razones personales de cualquier índole, enfermedad, fallecimiento, etc. no dará lugar a reclamo alguno, reembolso o devolución alguna, corriendo, en estos casos, los gastos de regreso por su exclusiva cuenta.\n",
      "\n",
      "XI) CLAUSULA DE ARBITRAJE: Toda cuestión que surja con motivo de la celebración, cumplimiento, incumplimiento, prórroga o rescisión del presente contrato podrá ser sometida por las partes a la resolución del Tribunal Arbitral de la Asociación Argentina de Agencias de Viajes y Turismo y/o Bolsa de Comercio de la ciudad de Cordoba, y/o de los Tribunales Arbitrales que funcionen en sus Regionales. En caso de sometimiento de dicha jurisdicción, los contratantes se sujetan y dan por aceptadas todas la condiciones establecidas por la Reglamentación del Tribunal Arbitral.\n",
      "\n",
      "XII) NORMAS DE APLICACIÓN: El presente contrato y en su caso la prestación de los servicios, se regirá exclusivamente por estas condiciones generales, por la Ley Nº18.829 y su reglamentación y por la Con-vención de Bruselas aprobada por Ley 19.918. Las presentes condiciones generales junto con la restante documentación que se entregue a los pasajeros conformará el Contrato de Viaje que establece la citada Convención.\n",
      "\n",
      "XIII) CONOCIMIENTO Y ACEPTACION DE CONDICIONES: al efectuar la compra de uno de nuestros servicios, queda automáticamente sentado que el cliente se notifica y acepta todas las presentescondiciones generales, que la Empresa le comunica detallada y claramente y que se encuentran agregadas en los documentos de viaje entregados al cliente. En caso de estar en desacuerdo con alguna de las Condiciones Generales precedentes, los interesados podrán desistir sin cargo alguno dentro de las 24 hs. de la presentación de la solicitud de inscripción. Superado este plazo la solicitud de inscripción se considerará firme, implicando la aceptación por los interesados de la plena aplicación de las Condiciones Generales, las particulares de cada touro reservación de servicios y las propias de las Empresas de transporte intervinientes. Valido para interesados y/o intermediarios\n",
      "\n",
      "XIV) JURISDICCIÓN Y COMPETENCIA: Para cualquier divergencia que se suscite, la cuestión se someterá a la jurisdicción de los Tribunales Provinciales de la ciudad de Córdoba, renunciando a cualquier otro fuero o jurisdicción. \n",
      "\n"
     ]
    }
   ],
   "source": [
    "print(Condiciones.read())"
   ]
  },
  {
   "cell_type": "markdown",
   "id": "64d6e06b",
   "metadata": {},
   "source": [
    "Córdoba, \n",
    "\n",
    "Estimado/a Pax\n",
    "\n"
   ]
  },
  {
   "cell_type": "markdown",
   "id": "ffda275f",
   "metadata": {},
   "source": [
    "display(Image(filename='~/Argo/Imagenes/logo_uruk2.png'))"
   ]
  },
  {
   "cell_type": "code",
   "execution_count": null,
   "id": "4395ecd8",
   "metadata": {},
   "outputs": [],
   "source": []
  }
 ],
 "metadata": {
  "kernelspec": {
   "display_name": "Python 3 (ipykernel)",
   "language": "python",
   "name": "python3"
  },
  "language_info": {
   "codemirror_mode": {
    "name": "ipython",
    "version": 3
   },
   "file_extension": ".py",
   "mimetype": "text/x-python",
   "name": "python",
   "nbconvert_exporter": "python",
   "pygments_lexer": "ipython3",
   "version": "3.9.7"
  }
 },
 "nbformat": 4,
 "nbformat_minor": 5
}
