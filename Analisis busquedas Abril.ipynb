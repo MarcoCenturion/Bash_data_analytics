{
 "cells": [
  {
   "cell_type": "code",
   "execution_count": 1,
   "metadata": {
    "scrolled": true
   },
   "outputs": [
    {
     "name": "stderr",
     "output_type": "stream",
     "text": [
      "/usr/lib/python3.6/site-packages/IPython/extensions/rmagic.py:11: UserWarning: The rmagic extension in IPython has moved to `rpy2.ipython`, please see `rpy2` documentation.\n",
      "  warnings.warn(\"The rmagic extension in IPython has moved to \"\n"
     ]
    }
   ],
   "source": [
    "%load_ext rmagic "
   ]
  },
  {
   "cell_type": "code",
   "execution_count": 2,
   "metadata": {
    "scrolled": true
   },
   "outputs": [
    {
     "ename": "ModuleNotFoundError",
     "evalue": "No module named 'rpy2'",
     "output_type": "error",
     "traceback": [
      "\u001b[0;31m---------------------------------------------------------------------------\u001b[0m",
      "\u001b[0;31mModuleNotFoundError\u001b[0m                       Traceback (most recent call last)",
      "\u001b[0;32m<ipython-input-2-1653403ff6cf>\u001b[0m in \u001b[0;36m<module>\u001b[0;34m()\u001b[0m\n\u001b[0;32m----> 1\u001b[0;31m \u001b[0;32mimport\u001b[0m \u001b[0mrpy2\u001b[0m\u001b[0;34m\u001b[0m\u001b[0m\n\u001b[0m",
      "\u001b[0;31mModuleNotFoundError\u001b[0m: No module named 'rpy2'"
     ]
    }
   ],
   "source": [
    "import rpy2"
   ]
  },
  {
   "cell_type": "code",
   "execution_count": 3,
   "metadata": {},
   "outputs": [],
   "source": [
    "import numpy as np\n",
    "import pandas as pd\n",
    "import matplotlib.pyplot as plt\n",
    "import seaborn as sns"
   ]
  },
  {
   "cell_type": "code",
   "execution_count": 8,
   "metadata": {},
   "outputs": [
    {
     "ename": "FileNotFoundError",
     "evalue": "File b'/home/marco/Metricas VE/conversiones abril.csv' does not exist",
     "output_type": "error",
     "traceback": [
      "\u001b[0;31m---------------------------------------------------------------------------\u001b[0m",
      "\u001b[0;31mFileNotFoundError\u001b[0m                         Traceback (most recent call last)",
      "\u001b[0;32m<ipython-input-8-bb5975cc4230>\u001b[0m in \u001b[0;36m<module>\u001b[0;34m()\u001b[0m\n\u001b[0;32m----> 1\u001b[0;31m \u001b[0msitio\u001b[0m \u001b[0;34m=\u001b[0m \u001b[0mpd\u001b[0m\u001b[0;34m.\u001b[0m\u001b[0mread_csv\u001b[0m\u001b[0;34m(\u001b[0m\u001b[0;34m'/home/marco/Metricas VE/conversiones abril.csv'\u001b[0m\u001b[0;34m)\u001b[0m\u001b[0;34m\u001b[0m\u001b[0m\n\u001b[0m",
      "\u001b[0;32m/usr/lib/python3.6/site-packages/pandas/io/parsers.py\u001b[0m in \u001b[0;36mparser_f\u001b[0;34m(filepath_or_buffer, sep, delimiter, header, names, index_col, usecols, squeeze, prefix, mangle_dupe_cols, dtype, engine, converters, true_values, false_values, skipinitialspace, skiprows, nrows, na_values, keep_default_na, na_filter, verbose, skip_blank_lines, parse_dates, infer_datetime_format, keep_date_col, date_parser, dayfirst, iterator, chunksize, compression, thousands, decimal, lineterminator, quotechar, quoting, escapechar, comment, encoding, dialect, tupleize_cols, error_bad_lines, warn_bad_lines, skipfooter, skip_footer, doublequote, delim_whitespace, as_recarray, compact_ints, use_unsigned, low_memory, buffer_lines, memory_map, float_precision)\u001b[0m\n\u001b[1;32m    653\u001b[0m                     skip_blank_lines=skip_blank_lines)\n\u001b[1;32m    654\u001b[0m \u001b[0;34m\u001b[0m\u001b[0m\n\u001b[0;32m--> 655\u001b[0;31m         \u001b[0;32mreturn\u001b[0m \u001b[0m_read\u001b[0m\u001b[0;34m(\u001b[0m\u001b[0mfilepath_or_buffer\u001b[0m\u001b[0;34m,\u001b[0m \u001b[0mkwds\u001b[0m\u001b[0;34m)\u001b[0m\u001b[0;34m\u001b[0m\u001b[0m\n\u001b[0m\u001b[1;32m    656\u001b[0m \u001b[0;34m\u001b[0m\u001b[0m\n\u001b[1;32m    657\u001b[0m     \u001b[0mparser_f\u001b[0m\u001b[0;34m.\u001b[0m\u001b[0m__name__\u001b[0m \u001b[0;34m=\u001b[0m \u001b[0mname\u001b[0m\u001b[0;34m\u001b[0m\u001b[0m\n",
      "\u001b[0;32m/usr/lib/python3.6/site-packages/pandas/io/parsers.py\u001b[0m in \u001b[0;36m_read\u001b[0;34m(filepath_or_buffer, kwds)\u001b[0m\n\u001b[1;32m    403\u001b[0m \u001b[0;34m\u001b[0m\u001b[0m\n\u001b[1;32m    404\u001b[0m     \u001b[0;31m# Create the parser.\u001b[0m\u001b[0;34m\u001b[0m\u001b[0;34m\u001b[0m\u001b[0m\n\u001b[0;32m--> 405\u001b[0;31m     \u001b[0mparser\u001b[0m \u001b[0;34m=\u001b[0m \u001b[0mTextFileReader\u001b[0m\u001b[0;34m(\u001b[0m\u001b[0mfilepath_or_buffer\u001b[0m\u001b[0;34m,\u001b[0m \u001b[0;34m**\u001b[0m\u001b[0mkwds\u001b[0m\u001b[0;34m)\u001b[0m\u001b[0;34m\u001b[0m\u001b[0m\n\u001b[0m\u001b[1;32m    406\u001b[0m \u001b[0;34m\u001b[0m\u001b[0m\n\u001b[1;32m    407\u001b[0m     \u001b[0;32mif\u001b[0m \u001b[0mchunksize\u001b[0m \u001b[0;32mor\u001b[0m \u001b[0miterator\u001b[0m\u001b[0;34m:\u001b[0m\u001b[0;34m\u001b[0m\u001b[0m\n",
      "\u001b[0;32m/usr/lib/python3.6/site-packages/pandas/io/parsers.py\u001b[0m in \u001b[0;36m__init__\u001b[0;34m(self, f, engine, **kwds)\u001b[0m\n\u001b[1;32m    762\u001b[0m             \u001b[0mself\u001b[0m\u001b[0;34m.\u001b[0m\u001b[0moptions\u001b[0m\u001b[0;34m[\u001b[0m\u001b[0;34m'has_index_names'\u001b[0m\u001b[0;34m]\u001b[0m \u001b[0;34m=\u001b[0m \u001b[0mkwds\u001b[0m\u001b[0;34m[\u001b[0m\u001b[0;34m'has_index_names'\u001b[0m\u001b[0;34m]\u001b[0m\u001b[0;34m\u001b[0m\u001b[0m\n\u001b[1;32m    763\u001b[0m \u001b[0;34m\u001b[0m\u001b[0m\n\u001b[0;32m--> 764\u001b[0;31m         \u001b[0mself\u001b[0m\u001b[0;34m.\u001b[0m\u001b[0m_make_engine\u001b[0m\u001b[0;34m(\u001b[0m\u001b[0mself\u001b[0m\u001b[0;34m.\u001b[0m\u001b[0mengine\u001b[0m\u001b[0;34m)\u001b[0m\u001b[0;34m\u001b[0m\u001b[0m\n\u001b[0m\u001b[1;32m    765\u001b[0m \u001b[0;34m\u001b[0m\u001b[0m\n\u001b[1;32m    766\u001b[0m     \u001b[0;32mdef\u001b[0m \u001b[0mclose\u001b[0m\u001b[0;34m(\u001b[0m\u001b[0mself\u001b[0m\u001b[0;34m)\u001b[0m\u001b[0;34m:\u001b[0m\u001b[0;34m\u001b[0m\u001b[0m\n",
      "\u001b[0;32m/usr/lib/python3.6/site-packages/pandas/io/parsers.py\u001b[0m in \u001b[0;36m_make_engine\u001b[0;34m(self, engine)\u001b[0m\n\u001b[1;32m    983\u001b[0m     \u001b[0;32mdef\u001b[0m \u001b[0m_make_engine\u001b[0m\u001b[0;34m(\u001b[0m\u001b[0mself\u001b[0m\u001b[0;34m,\u001b[0m \u001b[0mengine\u001b[0m\u001b[0;34m=\u001b[0m\u001b[0;34m'c'\u001b[0m\u001b[0;34m)\u001b[0m\u001b[0;34m:\u001b[0m\u001b[0;34m\u001b[0m\u001b[0m\n\u001b[1;32m    984\u001b[0m         \u001b[0;32mif\u001b[0m \u001b[0mengine\u001b[0m \u001b[0;34m==\u001b[0m \u001b[0;34m'c'\u001b[0m\u001b[0;34m:\u001b[0m\u001b[0;34m\u001b[0m\u001b[0m\n\u001b[0;32m--> 985\u001b[0;31m             \u001b[0mself\u001b[0m\u001b[0;34m.\u001b[0m\u001b[0m_engine\u001b[0m \u001b[0;34m=\u001b[0m \u001b[0mCParserWrapper\u001b[0m\u001b[0;34m(\u001b[0m\u001b[0mself\u001b[0m\u001b[0;34m.\u001b[0m\u001b[0mf\u001b[0m\u001b[0;34m,\u001b[0m \u001b[0;34m**\u001b[0m\u001b[0mself\u001b[0m\u001b[0;34m.\u001b[0m\u001b[0moptions\u001b[0m\u001b[0;34m)\u001b[0m\u001b[0;34m\u001b[0m\u001b[0m\n\u001b[0m\u001b[1;32m    986\u001b[0m         \u001b[0;32melse\u001b[0m\u001b[0;34m:\u001b[0m\u001b[0;34m\u001b[0m\u001b[0m\n\u001b[1;32m    987\u001b[0m             \u001b[0;32mif\u001b[0m \u001b[0mengine\u001b[0m \u001b[0;34m==\u001b[0m \u001b[0;34m'python'\u001b[0m\u001b[0;34m:\u001b[0m\u001b[0;34m\u001b[0m\u001b[0m\n",
      "\u001b[0;32m/usr/lib/python3.6/site-packages/pandas/io/parsers.py\u001b[0m in \u001b[0;36m__init__\u001b[0;34m(self, src, **kwds)\u001b[0m\n\u001b[1;32m   1603\u001b[0m         \u001b[0mkwds\u001b[0m\u001b[0;34m[\u001b[0m\u001b[0;34m'allow_leading_cols'\u001b[0m\u001b[0;34m]\u001b[0m \u001b[0;34m=\u001b[0m \u001b[0mself\u001b[0m\u001b[0;34m.\u001b[0m\u001b[0mindex_col\u001b[0m \u001b[0;32mis\u001b[0m \u001b[0;32mnot\u001b[0m \u001b[0;32mFalse\u001b[0m\u001b[0;34m\u001b[0m\u001b[0m\n\u001b[1;32m   1604\u001b[0m \u001b[0;34m\u001b[0m\u001b[0m\n\u001b[0;32m-> 1605\u001b[0;31m         \u001b[0mself\u001b[0m\u001b[0;34m.\u001b[0m\u001b[0m_reader\u001b[0m \u001b[0;34m=\u001b[0m \u001b[0mparsers\u001b[0m\u001b[0;34m.\u001b[0m\u001b[0mTextReader\u001b[0m\u001b[0;34m(\u001b[0m\u001b[0msrc\u001b[0m\u001b[0;34m,\u001b[0m \u001b[0;34m**\u001b[0m\u001b[0mkwds\u001b[0m\u001b[0;34m)\u001b[0m\u001b[0;34m\u001b[0m\u001b[0m\n\u001b[0m\u001b[1;32m   1606\u001b[0m \u001b[0;34m\u001b[0m\u001b[0m\n\u001b[1;32m   1607\u001b[0m         \u001b[0;31m# XXX\u001b[0m\u001b[0;34m\u001b[0m\u001b[0;34m\u001b[0m\u001b[0m\n",
      "\u001b[0;32mpandas/_libs/parsers.pyx\u001b[0m in \u001b[0;36mpandas._libs.parsers.TextReader.__cinit__ (pandas/_libs/parsers.c:4209)\u001b[0;34m()\u001b[0m\n",
      "\u001b[0;32mpandas/_libs/parsers.pyx\u001b[0m in \u001b[0;36mpandas._libs.parsers.TextReader._setup_parser_source (pandas/_libs/parsers.c:8873)\u001b[0;34m()\u001b[0m\n",
      "\u001b[0;31mFileNotFoundError\u001b[0m: File b'/home/marco/Metricas VE/conversiones abril.csv' does not exist"
     ]
    }
   ],
   "source": [
    "sitio = pd.read_csv('/home/marco/Metricas VE/conversiones abril.csv')"
   ]
  },
  {
   "cell_type": "code",
   "execution_count": 5,
   "metadata": {},
   "outputs": [
    {
     "ename": "NameError",
     "evalue": "name 'sitio' is not defined",
     "output_type": "error",
     "traceback": [
      "\u001b[0;31m---------------------------------------------------------------------------\u001b[0m",
      "\u001b[0;31mNameError\u001b[0m                                 Traceback (most recent call last)",
      "\u001b[0;32m<ipython-input-5-33949b2109a4>\u001b[0m in \u001b[0;36m<module>\u001b[0;34m()\u001b[0m\n\u001b[0;32m----> 1\u001b[0;31m \u001b[0mprint\u001b[0m\u001b[0;34m(\u001b[0m\u001b[0msitio\u001b[0m\u001b[0;34m.\u001b[0m\u001b[0minfo\u001b[0m\u001b[0;34m(\u001b[0m\u001b[0;34m)\u001b[0m\u001b[0;34m)\u001b[0m\u001b[0;34m\u001b[0m\u001b[0m\n\u001b[0m",
      "\u001b[0;31mNameError\u001b[0m: name 'sitio' is not defined"
     ]
    }
   ],
   "source": [
    "print(sitio.info())"
   ]
  },
  {
   "cell_type": "code",
   "execution_count": 6,
   "metadata": {},
   "outputs": [
    {
     "ename": "NameError",
     "evalue": "name 'sitio' is not defined",
     "output_type": "error",
     "traceback": [
      "\u001b[0;31m---------------------------------------------------------------------------\u001b[0m",
      "\u001b[0;31mNameError\u001b[0m                                 Traceback (most recent call last)",
      "\u001b[0;32m<ipython-input-6-101dcdfbe2ba>\u001b[0m in \u001b[0;36m<module>\u001b[0;34m()\u001b[0m\n\u001b[1;32m      1\u001b[0m \u001b[0;31m## imprime la cabecera del archivo\u001b[0m\u001b[0;34m\u001b[0m\u001b[0;34m\u001b[0m\u001b[0m\n\u001b[1;32m      2\u001b[0m \u001b[0;34m\u001b[0m\u001b[0m\n\u001b[0;32m----> 3\u001b[0;31m \u001b[0mprint\u001b[0m\u001b[0;34m(\u001b[0m\u001b[0msitio\u001b[0m\u001b[0;34m.\u001b[0m\u001b[0mhead\u001b[0m\u001b[0;34m(\u001b[0m\u001b[0;34m)\u001b[0m\u001b[0;34m)\u001b[0m\u001b[0;34m\u001b[0m\u001b[0m\n\u001b[0m",
      "\u001b[0;31mNameError\u001b[0m: name 'sitio' is not defined"
     ]
    }
   ],
   "source": [
    "## imprime la cabecera del archivo\n",
    "\n",
    "print(sitio.head())"
   ]
  },
  {
   "cell_type": "markdown",
   "metadata": {},
   "source": [
    "## convertir los datos en un Dataframe"
   ]
  },
  {
   "cell_type": "code",
   "execution_count": 29,
   "metadata": {},
   "outputs": [],
   "source": [
    "analisis=pd.DataFrame(sitio)"
   ]
  },
  {
   "cell_type": "code",
   "execution_count": 30,
   "metadata": {},
   "outputs": [
    {
     "name": "stdout",
     "output_type": "stream",
     "text": [
      "                                Fuente                              Segmento  \\\n",
      "0                 appcatalogo.ifema.es                    Todos los usuarios   \n",
      "1                 appcatalogo.ifema.es  Visitantes que realizan conversiones   \n",
      "2                  cl.search.yahoo.com                    Todos los usuarios   \n",
      "3                  cl.search.yahoo.com  Visitantes que realizan conversiones   \n",
      "4              firenzecoop.com.ar:2084                    Todos los usuarios   \n",
      "5              firenzecoop.com.ar:2084  Visitantes que realizan conversiones   \n",
      "6                         omnibees.com                    Todos los usuarios   \n",
      "7                         omnibees.com  Visitantes que realizan conversiones   \n",
      "8                  portustravel.tur.ar                    Todos los usuarios   \n",
      "9                  portustravel.tur.ar  Visitantes que realizan conversiones   \n",
      "10              proyecturviajes.com.ar                    Todos los usuarios   \n",
      "11              proyecturviajes.com.ar  Visitantes que realizan conversiones   \n",
      "12                  webmail.ferozo.com                    Todos los usuarios   \n",
      "13                  webmail.ferozo.com  Visitantes que realizan conversiones   \n",
      "14                viajefacilmza.com.ar                    Todos los usuarios   \n",
      "15                viajefacilmza.com.ar  Visitantes que realizan conversiones   \n",
      "16              tarjetacencosud.com.ar                    Todos los usuarios   \n",
      "17              tarjetacencosud.com.ar  Visitantes que realizan conversiones   \n",
      "18                       anduma.tur.ar                    Todos los usuarios   \n",
      "19                       anduma.tur.ar  Visitantes que realizan conversiones   \n",
      "20               biotravel.com.ar:2095                    Todos los usuarios   \n",
      "21               biotravel.com.ar:2095  Visitantes que realizan conversiones   \n",
      "22               com.google.android.gm                    Todos los usuarios   \n",
      "23               com.google.android.gm  Visitantes que realizan conversiones   \n",
      "24                      quick-surf.com                    Todos los usuarios   \n",
      "25                      quick-surf.com  Visitantes que realizan conversiones   \n",
      "26                   infonegocios.info                    Todos los usuarios   \n",
      "27                   infonegocios.info  Visitantes que realizan conversiones   \n",
      "28    supportertours.rugbyworldcup.com                    Todos los usuarios   \n",
      "29    supportertours.rugbyworldcup.com  Visitantes que realizan conversiones   \n",
      "..                                 ...                                   ...   \n",
      "167       delfos.beta.bookingmotor.com  Visitantes que realizan conversiones   \n",
      "168              delfos.tur.local:8888                    Todos los usuarios   \n",
      "169              delfos.tur.local:8888  Visitantes que realizan conversiones   \n",
      "170              kamchatka.tur.ar:2084                    Todos los usuarios   \n",
      "171              kamchatka.tur.ar:2084  Visitantes que realizan conversiones   \n",
      "172                ketrastravel.tur.ar                    Todos los usuarios   \n",
      "173                ketrastravel.tur.ar  Visitantes que realizan conversiones   \n",
      "174     londontravelagency.com.ar:2084                    Todos los usuarios   \n",
      "175     londontravelagency.com.ar:2084  Visitantes que realizan conversiones   \n",
      "176               mail.andesmar.com.ar                    Todos los usuarios   \n",
      "177               mail.andesmar.com.ar  Visitantes que realizan conversiones   \n",
      "178                  mail.rotamund.com                    Todos los usuarios   \n",
      "179                  mail.rotamund.com  Visitantes que realizan conversiones   \n",
      "180                 masnuviajes.tur.ar                    Todos los usuarios   \n",
      "181                 masnuviajes.tur.ar  Visitantes que realizan conversiones   \n",
      "182            paginasamarillas.com.ar                    Todos los usuarios   \n",
      "183            paginasamarillas.com.ar  Visitantes que realizan conversiones   \n",
      "184              perutravelmart.com.pe                    Todos los usuarios   \n",
      "185              perutravelmart.com.pe  Visitantes que realizan conversiones   \n",
      "186  statichtmlproxy2.thunderpenny.com                    Todos los usuarios   \n",
      "187  statichtmlproxy2.thunderpenny.com  Visitantes que realizan conversiones   \n",
      "188              testb2b.delfos.tur.ar                    Todos los usuarios   \n",
      "189              testb2b.delfos.tur.ar  Visitantes que realizan conversiones   \n",
      "190                     tur-cen.com.ar                    Todos los usuarios   \n",
      "191                     tur-cen.com.ar  Visitantes que realizan conversiones   \n",
      "192                vertienteviajes.com                    Todos los usuarios   \n",
      "193                vertienteviajes.com  Visitantes que realizan conversiones   \n",
      "194           vertienteviajes.com:2084                    Todos los usuarios   \n",
      "195           vertienteviajes.com:2084  Visitantes que realizan conversiones   \n",
      "196                                NaN                    Todos los usuarios   \n",
      "\n",
      "     Usuarios  Usuarios nuevos  Sesiones Páginas/sesión  \\\n",
      "0           1                1         1           1,00   \n",
      "1           0                0         0           0,00   \n",
      "2           1                1         1           1,00   \n",
      "3           0                0         0           0,00   \n",
      "4           1                0         1           1,00   \n",
      "5           0                0         0           0,00   \n",
      "6           1                0         1           1,00   \n",
      "7           0                0         0           0,00   \n",
      "8           2                0         2           1,00   \n",
      "9           0                0         0           0,00   \n",
      "10          2                1         3           1,00   \n",
      "11          0                0         0           0,00   \n",
      "12          1                0         1           1,00   \n",
      "13          0                0         0           0,00   \n",
      "14         45               45        45           1,04   \n",
      "15          0                0         0           0,00   \n",
      "16          5                5         5           1,20   \n",
      "17          0                0         0           0,00   \n",
      "18         14                7        16           1,44   \n",
      "19          0                0         0           0,00   \n",
      "20          1                0         4           1,50   \n",
      "21          0                0         0           0,00   \n",
      "22         21               12        21           1,52   \n",
      "23          0                0         0           0,00   \n",
      "24          1                1         3           1,67   \n",
      "25          0                0         0           0,00   \n",
      "26          3                2        27           1,85   \n",
      "27          0                0         0           0,00   \n",
      "28         37               33        35           1,66   \n",
      "29          0                0         0           0,00   \n",
      "..        ...              ...       ...            ...   \n",
      "167         1                0         1          19,00   \n",
      "168         1                0         1           2,00   \n",
      "169         1                0         1           2,00   \n",
      "170         2                0         3           3,67   \n",
      "171         1                0         2           4,50   \n",
      "172         1                0         1           2,00   \n",
      "173         0                0         0           0,00   \n",
      "174         1                0         2           2,00   \n",
      "175         0                0         0           0,00   \n",
      "176         1                0         9           4,33   \n",
      "177         1                0         9           4,33   \n",
      "178         1                1         1           2,00   \n",
      "179         0                0         0           0,00   \n",
      "180         2                1         3           2,00   \n",
      "181         0                0         0           0,00   \n",
      "182         1                0         1           3,00   \n",
      "183         0                0         0           0,00   \n",
      "184         2                2         2           3,50   \n",
      "185         0                0         0           0,00   \n",
      "186         1                0         9           3,67   \n",
      "187         0                0         0           0,00   \n",
      "188         1                0         1           2,00   \n",
      "189         1                0         1           2,00   \n",
      "190        10               10        10           3,00   \n",
      "191         0                0         0           0,00   \n",
      "192         1                1         1           2,00   \n",
      "193         0                0         0           0,00   \n",
      "194         1                0         9           3,00   \n",
      "195         0                0         0           0,00   \n",
      "196      4991             3751     13956           5,26   \n",
      "\n",
      "    Duración media de la sesión Tasa de conversión del objetivo  \\\n",
      "0                          5,00                          0,00 %   \n",
      "1                          0,00                          0,00 %   \n",
      "2                          4,00                          0,00 %   \n",
      "3                          0,00                          0,00 %   \n",
      "4                          3,00                          0,00 %   \n",
      "5                          0,00                          0,00 %   \n",
      "6                          2,00                          0,00 %   \n",
      "7                          0,00                          0,00 %   \n",
      "8                          0,00                          0,00 %   \n",
      "9                          0,00                          0,00 %   \n",
      "10                         0,00                          0,00 %   \n",
      "11                         0,00                          0,00 %   \n",
      "12                         0,00                          0,00 %   \n",
      "13                         0,00                          0,00 %   \n",
      "14                         0,29                          0,00 %   \n",
      "15                         0,00                          0,00 %   \n",
      "16                         6,60                          0,00 %   \n",
      "17                         0,00                          0,00 %   \n",
      "18                        13,56                          0,00 %   \n",
      "19                         0,00                          0,00 %   \n",
      "20                         7,00                          0,00 %   \n",
      "21                         0,00                          0,00 %   \n",
      "22                        74,14                          0,00 %   \n",
      "23                         0,00                          0,00 %   \n",
      "24                        82,33                          0,00 %   \n",
      "25                         0,00                          0,00 %   \n",
      "26                       144,93                          0,00 %   \n",
      "27                         0,00                          0,00 %   \n",
      "28                        82,80                          0,00 %   \n",
      "29                         0,00                          0,00 %   \n",
      "..                          ...                             ...   \n",
      "167                      308,00                        100,00 %   \n",
      "168                        6,00                          0,00 %   \n",
      "169                        6,00                          0,00 %   \n",
      "170                      120,00                          0,00 %   \n",
      "171                       71,50                          0,00 %   \n",
      "172                        1,00                          0,00 %   \n",
      "173                        0,00                          0,00 %   \n",
      "174                      675,50                          0,00 %   \n",
      "175                        0,00                          0,00 %   \n",
      "176                      341,78                         11,11 %   \n",
      "177                      341,78                         11,11 %   \n",
      "178                       59,00                          0,00 %   \n",
      "179                        0,00                          0,00 %   \n",
      "180                        5,67                          0,00 %   \n",
      "181                        0,00                          0,00 %   \n",
      "182                       57,00                          0,00 %   \n",
      "183                        0,00                          0,00 %   \n",
      "184                      319,50                          0,00 %   \n",
      "185                        0,00                          0,00 %   \n",
      "186                      524,33                          0,00 %   \n",
      "187                        0,00                          0,00 %   \n",
      "188                      701,00                          0,00 %   \n",
      "189                      701,00                          0,00 %   \n",
      "190                        0,60                          0,00 %   \n",
      "191                        0,00                          0,00 %   \n",
      "192                        6,00                          0,00 %   \n",
      "193                        0,00                          0,00 %   \n",
      "194                      300,33                          0,00 %   \n",
      "195                        0,00                          0,00 %   \n",
      "196                      247,44                          4,03 %   \n",
      "\n",
      "     Objetivos cumplidos Valor del objetivo  \n",
      "0                      0               0,00  \n",
      "1                      0               0,00  \n",
      "2                      0               0,00  \n",
      "3                      0               0,00  \n",
      "4                      0               0,00  \n",
      "5                      0               0,00  \n",
      "6                      0               0,00  \n",
      "7                      0               0,00  \n",
      "8                      0               0,00  \n",
      "9                      0               0,00  \n",
      "10                     0               0,00  \n",
      "11                     0               0,00  \n",
      "12                     0               0,00  \n",
      "13                     0               0,00  \n",
      "14                     0               0,00  \n",
      "15                     0               0,00  \n",
      "16                     0               0,00  \n",
      "17                     0               0,00  \n",
      "18                     0               0,00  \n",
      "19                     0               0,00  \n",
      "20                     0               0,00  \n",
      "21                     0               0,00  \n",
      "22                     0               0,00  \n",
      "23                     0               0,00  \n",
      "24                     0               0,00  \n",
      "25                     0               0,00  \n",
      "26                     0               0,00  \n",
      "27                     0               0,00  \n",
      "28                     0               0,00  \n",
      "29                     0               0,00  \n",
      "..                   ...                ...  \n",
      "167                    1               0,00  \n",
      "168                    0               0,00  \n",
      "169                    0               0,00  \n",
      "170                    0               0,00  \n",
      "171                    0               0,00  \n",
      "172                    0               0,00  \n",
      "173                    0               0,00  \n",
      "174                    0               0,00  \n",
      "175                    0               0,00  \n",
      "176                    1               0,00  \n",
      "177                    1               0,00  \n",
      "178                    0               0,00  \n",
      "179                    0               0,00  \n",
      "180                    0               0,00  \n",
      "181                    0               0,00  \n",
      "182                    0               0,00  \n",
      "183                    0               0,00  \n",
      "184                    0               0,00  \n",
      "185                    0               0,00  \n",
      "186                    0               0,00  \n",
      "187                    0               0,00  \n",
      "188                    0               0,00  \n",
      "189                    0               0,00  \n",
      "190                    0               0,00  \n",
      "191                    0               0,00  \n",
      "192                    0               0,00  \n",
      "193                    0               0,00  \n",
      "194                    0               0,00  \n",
      "195                    0               0,00  \n",
      "196                  562               0,00  \n",
      "\n",
      "[197 rows x 10 columns]\n"
     ]
    }
   ],
   "source": [
    "print(analisis) # imprime los restultados de analisis"
   ]
  },
  {
   "cell_type": "markdown",
   "metadata": {},
   "source": [
    "reemplazar todos los NAN por CERO"
   ]
  },
  {
   "cell_type": "code",
   "execution_count": 31,
   "metadata": {},
   "outputs": [],
   "source": [
    "analisis=analisis.replace(np.nan, '0') # reemplaza los NAN por 0"
   ]
  },
  {
   "cell_type": "code",
   "execution_count": 32,
   "metadata": {},
   "outputs": [
    {
     "name": "stdout",
     "output_type": "stream",
     "text": [
      "                    Fuente                              Segmento  Usuarios  \\\n",
      "0     appcatalogo.ifema.es                    Todos los usuarios         1   \n",
      "1     appcatalogo.ifema.es  Visitantes que realizan conversiones         0   \n",
      "2      cl.search.yahoo.com                    Todos los usuarios         1   \n",
      "3      cl.search.yahoo.com  Visitantes que realizan conversiones         0   \n",
      "4  firenzecoop.com.ar:2084                    Todos los usuarios         1   \n",
      "\n",
      "   Usuarios nuevos  Sesiones Páginas/sesión Duración media de la sesión  \\\n",
      "0                1         1           1,00                        5,00   \n",
      "1                0         0           0,00                        0,00   \n",
      "2                1         1           1,00                        4,00   \n",
      "3                0         0           0,00                        0,00   \n",
      "4                0         1           1,00                        3,00   \n",
      "\n",
      "  Tasa de conversión del objetivo  Objetivos cumplidos Valor del objetivo  \n",
      "0                          0,00 %                    0               0,00  \n",
      "1                          0,00 %                    0               0,00  \n",
      "2                          0,00 %                    0               0,00  \n",
      "3                          0,00 %                    0               0,00  \n",
      "4                          0,00 %                    0               0,00  \n"
     ]
    }
   ],
   "source": [
    "print(analisis.head())"
   ]
  },
  {
   "cell_type": "code",
   "execution_count": 33,
   "metadata": {},
   "outputs": [
    {
     "name": "stdout",
     "output_type": "stream",
     "text": [
      "          Usuarios  Usuarios nuevos      Sesiones  Objetivos cumplidos\n",
      "count   197.000000       197.000000    197.000000           197.000000\n",
      "mean     52.502538        38.807107    158.502538             8.558376\n",
      "std     397.233322       310.451093   1086.279259            45.358356\n",
      "min       0.000000         0.000000      0.000000             0.000000\n",
      "25%       0.000000         0.000000      0.000000             0.000000\n",
      "50%       1.000000         0.000000      4.000000             0.000000\n",
      "75%      10.000000         2.000000     36.000000             2.000000\n",
      "max    4991.000000      3751.000000  13956.000000           562.000000\n"
     ]
    }
   ],
   "source": [
    "print(analisis.describe())"
   ]
  },
  {
   "cell_type": "code",
   "execution_count": 34,
   "metadata": {},
   "outputs": [
    {
     "name": "stdout",
     "output_type": "stream",
     "text": [
      "          Usuarios  Usuarios nuevos      Sesiones  Objetivos cumplidos\n",
      "count   197.000000       197.000000    197.000000           197.000000\n",
      "mean     52.502538        38.807107    158.502538             8.558376\n",
      "std     397.233322       310.451093   1086.279259            45.358356\n",
      "min       0.000000         0.000000      0.000000             0.000000\n",
      "25%       0.000000         0.000000      0.000000             0.000000\n",
      "50%       1.000000         0.000000      4.000000             0.000000\n",
      "75%      10.000000         2.000000     36.000000             2.000000\n",
      "max    4991.000000      3751.000000  13956.000000           562.000000\n"
     ]
    }
   ],
   "source": [
    "print(analisis.describe(include=[np.number]))"
   ]
  },
  {
   "cell_type": "code",
   "execution_count": 35,
   "metadata": {},
   "outputs": [],
   "source": [
    "df=pd.DataFrame(analisis)"
   ]
  },
  {
   "cell_type": "code",
   "execution_count": 36,
   "metadata": {},
   "outputs": [
    {
     "name": "stdout",
     "output_type": "stream",
     "text": [
      "                                Fuente                              Segmento  \\\n",
      "0                 appcatalogo.ifema.es                    Todos los usuarios   \n",
      "1                 appcatalogo.ifema.es  Visitantes que realizan conversiones   \n",
      "2                  cl.search.yahoo.com                    Todos los usuarios   \n",
      "3                  cl.search.yahoo.com  Visitantes que realizan conversiones   \n",
      "4              firenzecoop.com.ar:2084                    Todos los usuarios   \n",
      "5              firenzecoop.com.ar:2084  Visitantes que realizan conversiones   \n",
      "6                         omnibees.com                    Todos los usuarios   \n",
      "7                         omnibees.com  Visitantes que realizan conversiones   \n",
      "8                  portustravel.tur.ar                    Todos los usuarios   \n",
      "9                  portustravel.tur.ar  Visitantes que realizan conversiones   \n",
      "10              proyecturviajes.com.ar                    Todos los usuarios   \n",
      "11              proyecturviajes.com.ar  Visitantes que realizan conversiones   \n",
      "12                  webmail.ferozo.com                    Todos los usuarios   \n",
      "13                  webmail.ferozo.com  Visitantes que realizan conversiones   \n",
      "14                viajefacilmza.com.ar                    Todos los usuarios   \n",
      "15                viajefacilmza.com.ar  Visitantes que realizan conversiones   \n",
      "16              tarjetacencosud.com.ar                    Todos los usuarios   \n",
      "17              tarjetacencosud.com.ar  Visitantes que realizan conversiones   \n",
      "18                       anduma.tur.ar                    Todos los usuarios   \n",
      "19                       anduma.tur.ar  Visitantes que realizan conversiones   \n",
      "20               biotravel.com.ar:2095                    Todos los usuarios   \n",
      "21               biotravel.com.ar:2095  Visitantes que realizan conversiones   \n",
      "22               com.google.android.gm                    Todos los usuarios   \n",
      "23               com.google.android.gm  Visitantes que realizan conversiones   \n",
      "24                      quick-surf.com                    Todos los usuarios   \n",
      "25                      quick-surf.com  Visitantes que realizan conversiones   \n",
      "26                   infonegocios.info                    Todos los usuarios   \n",
      "27                   infonegocios.info  Visitantes que realizan conversiones   \n",
      "28    supportertours.rugbyworldcup.com                    Todos los usuarios   \n",
      "29    supportertours.rugbyworldcup.com  Visitantes que realizan conversiones   \n",
      "..                                 ...                                   ...   \n",
      "167       delfos.beta.bookingmotor.com  Visitantes que realizan conversiones   \n",
      "168              delfos.tur.local:8888                    Todos los usuarios   \n",
      "169              delfos.tur.local:8888  Visitantes que realizan conversiones   \n",
      "170              kamchatka.tur.ar:2084                    Todos los usuarios   \n",
      "171              kamchatka.tur.ar:2084  Visitantes que realizan conversiones   \n",
      "172                ketrastravel.tur.ar                    Todos los usuarios   \n",
      "173                ketrastravel.tur.ar  Visitantes que realizan conversiones   \n",
      "174     londontravelagency.com.ar:2084                    Todos los usuarios   \n",
      "175     londontravelagency.com.ar:2084  Visitantes que realizan conversiones   \n",
      "176               mail.andesmar.com.ar                    Todos los usuarios   \n",
      "177               mail.andesmar.com.ar  Visitantes que realizan conversiones   \n",
      "178                  mail.rotamund.com                    Todos los usuarios   \n",
      "179                  mail.rotamund.com  Visitantes que realizan conversiones   \n",
      "180                 masnuviajes.tur.ar                    Todos los usuarios   \n",
      "181                 masnuviajes.tur.ar  Visitantes que realizan conversiones   \n",
      "182            paginasamarillas.com.ar                    Todos los usuarios   \n",
      "183            paginasamarillas.com.ar  Visitantes que realizan conversiones   \n",
      "184              perutravelmart.com.pe                    Todos los usuarios   \n",
      "185              perutravelmart.com.pe  Visitantes que realizan conversiones   \n",
      "186  statichtmlproxy2.thunderpenny.com                    Todos los usuarios   \n",
      "187  statichtmlproxy2.thunderpenny.com  Visitantes que realizan conversiones   \n",
      "188              testb2b.delfos.tur.ar                    Todos los usuarios   \n",
      "189              testb2b.delfos.tur.ar  Visitantes que realizan conversiones   \n",
      "190                     tur-cen.com.ar                    Todos los usuarios   \n",
      "191                     tur-cen.com.ar  Visitantes que realizan conversiones   \n",
      "192                vertienteviajes.com                    Todos los usuarios   \n",
      "193                vertienteviajes.com  Visitantes que realizan conversiones   \n",
      "194           vertienteviajes.com:2084                    Todos los usuarios   \n",
      "195           vertienteviajes.com:2084  Visitantes que realizan conversiones   \n",
      "196                                  0                    Todos los usuarios   \n",
      "\n",
      "     Usuarios  Usuarios nuevos  Sesiones Páginas/sesión  \\\n",
      "0           1                1         1           1,00   \n",
      "1           0                0         0           0,00   \n",
      "2           1                1         1           1,00   \n",
      "3           0                0         0           0,00   \n",
      "4           1                0         1           1,00   \n",
      "5           0                0         0           0,00   \n",
      "6           1                0         1           1,00   \n",
      "7           0                0         0           0,00   \n",
      "8           2                0         2           1,00   \n",
      "9           0                0         0           0,00   \n",
      "10          2                1         3           1,00   \n",
      "11          0                0         0           0,00   \n",
      "12          1                0         1           1,00   \n",
      "13          0                0         0           0,00   \n",
      "14         45               45        45           1,04   \n",
      "15          0                0         0           0,00   \n",
      "16          5                5         5           1,20   \n",
      "17          0                0         0           0,00   \n",
      "18         14                7        16           1,44   \n",
      "19          0                0         0           0,00   \n",
      "20          1                0         4           1,50   \n",
      "21          0                0         0           0,00   \n",
      "22         21               12        21           1,52   \n",
      "23          0                0         0           0,00   \n",
      "24          1                1         3           1,67   \n",
      "25          0                0         0           0,00   \n",
      "26          3                2        27           1,85   \n",
      "27          0                0         0           0,00   \n",
      "28         37               33        35           1,66   \n",
      "29          0                0         0           0,00   \n",
      "..        ...              ...       ...            ...   \n",
      "167         1                0         1          19,00   \n",
      "168         1                0         1           2,00   \n",
      "169         1                0         1           2,00   \n",
      "170         2                0         3           3,67   \n",
      "171         1                0         2           4,50   \n",
      "172         1                0         1           2,00   \n",
      "173         0                0         0           0,00   \n",
      "174         1                0         2           2,00   \n",
      "175         0                0         0           0,00   \n",
      "176         1                0         9           4,33   \n",
      "177         1                0         9           4,33   \n",
      "178         1                1         1           2,00   \n",
      "179         0                0         0           0,00   \n",
      "180         2                1         3           2,00   \n",
      "181         0                0         0           0,00   \n",
      "182         1                0         1           3,00   \n",
      "183         0                0         0           0,00   \n",
      "184         2                2         2           3,50   \n",
      "185         0                0         0           0,00   \n",
      "186         1                0         9           3,67   \n",
      "187         0                0         0           0,00   \n",
      "188         1                0         1           2,00   \n",
      "189         1                0         1           2,00   \n",
      "190        10               10        10           3,00   \n",
      "191         0                0         0           0,00   \n",
      "192         1                1         1           2,00   \n",
      "193         0                0         0           0,00   \n",
      "194         1                0         9           3,00   \n",
      "195         0                0         0           0,00   \n",
      "196      4991             3751     13956           5,26   \n",
      "\n",
      "    Duración media de la sesión Tasa de conversión del objetivo  \\\n",
      "0                          5,00                          0,00 %   \n",
      "1                          0,00                          0,00 %   \n",
      "2                          4,00                          0,00 %   \n",
      "3                          0,00                          0,00 %   \n",
      "4                          3,00                          0,00 %   \n",
      "5                          0,00                          0,00 %   \n",
      "6                          2,00                          0,00 %   \n",
      "7                          0,00                          0,00 %   \n",
      "8                          0,00                          0,00 %   \n",
      "9                          0,00                          0,00 %   \n",
      "10                         0,00                          0,00 %   \n",
      "11                         0,00                          0,00 %   \n",
      "12                         0,00                          0,00 %   \n",
      "13                         0,00                          0,00 %   \n",
      "14                         0,29                          0,00 %   \n",
      "15                         0,00                          0,00 %   \n",
      "16                         6,60                          0,00 %   \n",
      "17                         0,00                          0,00 %   \n",
      "18                        13,56                          0,00 %   \n",
      "19                         0,00                          0,00 %   \n",
      "20                         7,00                          0,00 %   \n",
      "21                         0,00                          0,00 %   \n",
      "22                        74,14                          0,00 %   \n",
      "23                         0,00                          0,00 %   \n",
      "24                        82,33                          0,00 %   \n",
      "25                         0,00                          0,00 %   \n",
      "26                       144,93                          0,00 %   \n",
      "27                         0,00                          0,00 %   \n",
      "28                        82,80                          0,00 %   \n",
      "29                         0,00                          0,00 %   \n",
      "..                          ...                             ...   \n",
      "167                      308,00                        100,00 %   \n",
      "168                        6,00                          0,00 %   \n",
      "169                        6,00                          0,00 %   \n",
      "170                      120,00                          0,00 %   \n",
      "171                       71,50                          0,00 %   \n",
      "172                        1,00                          0,00 %   \n",
      "173                        0,00                          0,00 %   \n",
      "174                      675,50                          0,00 %   \n",
      "175                        0,00                          0,00 %   \n",
      "176                      341,78                         11,11 %   \n",
      "177                      341,78                         11,11 %   \n",
      "178                       59,00                          0,00 %   \n",
      "179                        0,00                          0,00 %   \n",
      "180                        5,67                          0,00 %   \n",
      "181                        0,00                          0,00 %   \n",
      "182                       57,00                          0,00 %   \n",
      "183                        0,00                          0,00 %   \n",
      "184                      319,50                          0,00 %   \n",
      "185                        0,00                          0,00 %   \n",
      "186                      524,33                          0,00 %   \n",
      "187                        0,00                          0,00 %   \n",
      "188                      701,00                          0,00 %   \n",
      "189                      701,00                          0,00 %   \n",
      "190                        0,60                          0,00 %   \n",
      "191                        0,00                          0,00 %   \n",
      "192                        6,00                          0,00 %   \n",
      "193                        0,00                          0,00 %   \n",
      "194                      300,33                          0,00 %   \n",
      "195                        0,00                          0,00 %   \n",
      "196                      247,44                          4,03 %   \n",
      "\n",
      "     Objetivos cumplidos Valor del objetivo  \n",
      "0                      0               0,00  \n",
      "1                      0               0,00  \n",
      "2                      0               0,00  \n",
      "3                      0               0,00  \n",
      "4                      0               0,00  \n",
      "5                      0               0,00  \n",
      "6                      0               0,00  \n",
      "7                      0               0,00  \n",
      "8                      0               0,00  \n",
      "9                      0               0,00  \n",
      "10                     0               0,00  \n",
      "11                     0               0,00  \n",
      "12                     0               0,00  \n",
      "13                     0               0,00  \n",
      "14                     0               0,00  \n",
      "15                     0               0,00  \n",
      "16                     0               0,00  \n",
      "17                     0               0,00  \n",
      "18                     0               0,00  \n",
      "19                     0               0,00  \n",
      "20                     0               0,00  \n",
      "21                     0               0,00  \n",
      "22                     0               0,00  \n",
      "23                     0               0,00  \n",
      "24                     0               0,00  \n",
      "25                     0               0,00  \n",
      "26                     0               0,00  \n",
      "27                     0               0,00  \n",
      "28                     0               0,00  \n",
      "29                     0               0,00  \n",
      "..                   ...                ...  \n",
      "167                    1               0,00  \n",
      "168                    0               0,00  \n",
      "169                    0               0,00  \n",
      "170                    0               0,00  \n",
      "171                    0               0,00  \n",
      "172                    0               0,00  \n",
      "173                    0               0,00  \n",
      "174                    0               0,00  \n",
      "175                    0               0,00  \n",
      "176                    1               0,00  \n",
      "177                    1               0,00  \n",
      "178                    0               0,00  \n",
      "179                    0               0,00  \n",
      "180                    0               0,00  \n",
      "181                    0               0,00  \n",
      "182                    0               0,00  \n",
      "183                    0               0,00  \n",
      "184                    0               0,00  \n",
      "185                    0               0,00  \n",
      "186                    0               0,00  \n",
      "187                    0               0,00  \n",
      "188                    0               0,00  \n",
      "189                    0               0,00  \n",
      "190                    0               0,00  \n",
      "191                    0               0,00  \n",
      "192                    0               0,00  \n",
      "193                    0               0,00  \n",
      "194                    0               0,00  \n",
      "195                    0               0,00  \n",
      "196                  562               0,00  \n",
      "\n",
      "[197 rows x 10 columns]\n"
     ]
    }
   ],
   "source": [
    "print(analisis)"
   ]
  },
  {
   "cell_type": "code",
   "execution_count": 42,
   "metadata": {},
   "outputs": [
    {
     "data": {
      "text/plain": [
       "<matplotlib.axes._subplots.AxesSubplot at 0x7ff191134470>"
      ]
     },
     "execution_count": 42,
     "metadata": {},
     "output_type": "execute_result"
    },
    {
     "data": {
      "image/png": "[encoded data removed]",
      "text/plain": [
       "<matplotlib.figure.Figure at 0x7ff1910b91d0>"
      ]
     },
     "metadata": {},
     "output_type": "display_data"
    }
   ],
   "source": [
    "analisis.groupby('Sesiones')['Usuarios'].sum().plot(kind='bar')"
   ]
  },
  {
   "cell_type": "code",
   "execution_count": 44,
   "metadata": {},
   "outputs": [
    {
     "data": {
      "text/plain": [
       "<matplotlib.axes._subplots.AxesSubplot at 0x7ff190e0f668>"
      ]
     },
     "execution_count": 44,
     "metadata": {},
     "output_type": "execute_result"
    },
    {
     "data": {
      "image/png": "[encoded data removed]",
      "text/plain": [
       "<matplotlib.figure.Figure at 0x7ff190e74ba8>"
      ]
     },
     "metadata": {},
     "output_type": "display_data"
    }
   ],
   "source": [
    "analisis.Sesiones.groupby(df.Usuarios).sum().plot(kind='pie')"
   ]
  },
  {
   "cell_type": "code",
   "execution_count": 49,
   "metadata": {},
   "outputs": [
    {
     "data": {
      "text/plain": [
       "<seaborn.axisgrid.FacetGrid at 0x7ff190b2b7f0>"
      ]
     },
     "execution_count": 49,
     "metadata": {},
     "output_type": "execute_result"
    },
    {
     "data": {
      "image/png": "[encoded data removed]",
      "text/plain": [
       "<matplotlib.figure.Figure at 0x7ff190b69b38>"
      ]
     },
     "metadata": {},
     "output_type": "display_data"
    }
   ],
   "source": [
    "sns.lmplot(x='Usuarios',y='Objetivos cumplidos',data=analisis,fit_reg=False,hue='Objetivos cumplidos',legend=False,palette='Paired')"
   ]
  },
  {
   "cell_type": "code",
   "execution_count": 54,
   "metadata": {},
   "outputs": [
    {
     "data": {
      "text/plain": [
       "<seaborn.axisgrid.FacetGrid at 0x7ff1906b6a58>"
      ]
     },
     "execution_count": 54,
     "metadata": {},
     "output_type": "execute_result"
    },
    {
     "data": {
      "image/png": "[encoded data removed]",
      "text/plain": [
       "<matplotlib.figure.Figure at 0x7ff1906b69e8>"
      ]
     },
     "metadata": {},
     "output_type": "display_data"
    }
   ],
   "source": [
    "sns.lmplot(x='Sesiones',y='Objetivos cumplidos',data=analisis,fit_reg=False,hue='Usuarios nuevos',legend=False,palette='Paired')"
   ]
  },
  {
   "cell_type": "code",
   "execution_count": null,
   "metadata": {},
   "outputs": [],
   "source": []
  }
 ],
 "metadata": {
  "kernelspec": {
   "display_name": "Python 3",
   "language": "python",
   "name": "python3"
  },
  "language_info": {
   "codemirror_mode": {
    "name": "ipython",
    "version": 3
   },
   "file_extension": ".py",
   "mimetype": "text/x-python",
   "name": "python",
   "nbconvert_exporter": "python",
   "pygments_lexer": "ipython3",
   "version": "3.6.5"
  },
  "varInspector": {
   "cols": {
    "lenName": 16,
    "lenType": 16,
    "lenVar": 40
   },
   "kernels_config": {
    "python": {
     "delete_cmd_postfix": "",
     "delete_cmd_prefix": "del ",
     "library": "var_list.py",
     "varRefreshCmd": "print(var_dic_list())"
    },
    "r": {
     "delete_cmd_postfix": ") ",
     "delete_cmd_prefix": "rm(",
     "library": "var_list.r",
     "varRefreshCmd": "cat(var_dic_list()) "
    }
   },
   "types_to_exclude": [
    "module",
    "function",
    "builtin_function_or_method",
    "instance",
    "_Feature"
   ],
   "window_display": false
  }
 },
 "nbformat": 4,
 "nbformat_minor": 2
}
