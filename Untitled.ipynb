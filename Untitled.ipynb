{
 "cells": [
  {
   "cell_type": "code",
   "execution_count": 4,
   "id": "f34eed8c",
   "metadata": {},
   "outputs": [],
   "source": [
    "My_list = []\n",
    "My_list1 = list()"
   ]
  },
  {
   "cell_type": "code",
   "execution_count": 2,
   "id": "4cdd08cf",
   "metadata": {},
   "outputs": [
    {
     "data": {
      "text/plain": [
       "list"
      ]
     },
     "execution_count": 2,
     "metadata": {},
     "output_type": "execute_result"
    }
   ],
   "source": [
    "type(My_list)"
   ]
  },
  {
   "cell_type": "code",
   "execution_count": 5,
   "id": "6c2e1556",
   "metadata": {},
   "outputs": [
    {
     "data": {
      "text/plain": [
       "list"
      ]
     },
     "execution_count": 5,
     "metadata": {},
     "output_type": "execute_result"
    }
   ],
   "source": [
    "type(My_list1)"
   ]
  },
  {
   "cell_type": "code",
   "execution_count": 8,
   "id": "b7e5f10b",
   "metadata": {},
   "outputs": [
    {
     "name": "stdout",
     "output_type": "stream",
     "text": [
      "64.9 ns ± 2.37 ns per loop (mean ± std. dev. of 7 runs, 10000000 loops each)\n"
     ]
    }
   ],
   "source": [
    "%timeit My_list = []"
   ]
  },
  {
   "cell_type": "code",
   "execution_count": 9,
   "id": "0621e043",
   "metadata": {},
   "outputs": [
    {
     "name": "stdout",
     "output_type": "stream",
     "text": [
      "160 ns ± 4.04 ns per loop (mean ± std. dev. of 7 runs, 10000000 loops each)\n"
     ]
    }
   ],
   "source": [
    "%timeit My_list = list()"
   ]
  },
  {
   "cell_type": "code",
   "execution_count": 3,
   "id": "f6c04862",
   "metadata": {},
   "outputs": [],
   "source": [
    "import pandas as pd"
   ]
  },
  {
   "cell_type": "code",
   "execution_count": 4,
   "id": "09bd57b2",
   "metadata": {},
   "outputs": [
    {
     "name": "stdout",
     "output_type": "stream",
     "text": [
      "CPU times: user 7 µs, sys: 2 µs, total: 9 µs\n",
      "Wall time: 17.2 µs\n"
     ]
    },
    {
     "ename": "NameError",
     "evalue": "name 'time' is not defined",
     "output_type": "error",
     "traceback": [
      "\u001b[0;31m---------------------------------------------------------------------------\u001b[0m",
      "\u001b[0;31mNameError\u001b[0m                                 Traceback (most recent call last)",
      "\u001b[0;32m/tmp/ipykernel_2506653/2967464108.py\u001b[0m in \u001b[0;36m<module>\u001b[0;34m\u001b[0m\n\u001b[1;32m      1\u001b[0m \u001b[0mget_ipython\u001b[0m\u001b[0;34m(\u001b[0m\u001b[0;34m)\u001b[0m\u001b[0;34m.\u001b[0m\u001b[0mrun_line_magic\u001b[0m\u001b[0;34m(\u001b[0m\u001b[0;34m'time'\u001b[0m\u001b[0;34m,\u001b[0m \u001b[0;34m''\u001b[0m\u001b[0;34m)\u001b[0m\u001b[0;34m\u001b[0m\u001b[0;34m\u001b[0m\u001b[0m\n\u001b[1;32m      2\u001b[0m \u001b[0mget_ipython\u001b[0m\u001b[0;34m(\u001b[0m\u001b[0;34m)\u001b[0m\u001b[0;34m.\u001b[0m\u001b[0mrun_line_magic\u001b[0m\u001b[0;34m(\u001b[0m\u001b[0;34m'timeit'\u001b[0m\u001b[0;34m,\u001b[0m \u001b[0;34m''\u001b[0m\u001b[0;34m)\u001b[0m\u001b[0;34m\u001b[0m\u001b[0;34m\u001b[0m\u001b[0m\n\u001b[0;32m----> 3\u001b[0;31m \u001b[0mstart\u001b[0m \u001b[0;34m=\u001b[0m \u001b[0mtime\u001b[0m\u001b[0;34m.\u001b[0m\u001b[0mtime\u001b[0m\u001b[0;34m(\u001b[0m\u001b[0;34m)\u001b[0m\u001b[0;34m\u001b[0m\u001b[0;34m\u001b[0m\u001b[0m\n\u001b[0m\u001b[1;32m      4\u001b[0m \u001b[0;34m\u001b[0m\u001b[0m\n\u001b[1;32m      5\u001b[0m \u001b[0;31m## Create a Pandas dataframe from reader\u001b[0m\u001b[0;34m\u001b[0m\u001b[0;34m\u001b[0m\u001b[0;34m\u001b[0m\u001b[0m\n",
      "\u001b[0;31mNameError\u001b[0m: name 'time' is not defined"
     ]
    }
   ],
   "source": [
    "%time\n",
    "%timeit\n",
    "start = time.time()\n",
    "\n",
    "## Create a Pandas dataframe from reader\n",
    "df = pd.DataFrame(reader.readrows())\n",
    "end = time.time()\n",
    "print('Time taken ', end-start,' seconds')\n"
   ]
  },
  {
   "cell_type": "code",
   "execution_count": 5,
   "id": "07323c36",
   "metadata": {},
   "outputs": [],
   "source": [
    "vuelos = pd.read_csv('Vuelos_18_24AUG.csv')"
   ]
  },
  {
   "cell_type": "code",
   "execution_count": 6,
   "id": "d7e488ac",
   "metadata": {},
   "outputs": [
    {
     "data": {
      "text/html": [
       "<div>\n",
       "<style scoped>\n",
       "    .dataframe tbody tr th:only-of-type {\n",
       "        vertical-align: middle;\n",
       "    }\n",
       "\n",
       "    .dataframe tbody tr th {\n",
       "        vertical-align: top;\n",
       "    }\n",
       "\n",
       "    .dataframe thead th {\n",
       "        text-align: right;\n",
       "    }\n",
       "</style>\n",
       "<table border=\"1\" class=\"dataframe\">\n",
       "  <thead>\n",
       "    <tr style=\"text-align: right;\">\n",
       "      <th></th>\n",
       "      <th>Página</th>\n",
       "      <th>Número de visitas a páginas</th>\n",
       "      <th>Número de páginas vistas únicas</th>\n",
       "      <th>Promedio de tiempo en la página</th>\n",
       "      <th>Entradas</th>\n",
       "      <th>Porcentaje de rebote</th>\n",
       "      <th>Porcentaje de salidas</th>\n",
       "      <th>Valor de página</th>\n",
       "    </tr>\n",
       "  </thead>\n",
       "  <tbody>\n",
       "    <tr>\n",
       "      <th>0</th>\n",
       "      <td>/es/algarroboviajesyturismo/vuelos/resultados/...</td>\n",
       "      <td>9</td>\n",
       "      <td>5</td>\n",
       "      <td>00:05:57</td>\n",
       "      <td>2</td>\n",
       "      <td>0,00 %</td>\n",
       "      <td>44,44 %</td>\n",
       "      <td>0,00 US$</td>\n",
       "    </tr>\n",
       "    <tr>\n",
       "      <th>1</th>\n",
       "      <td>/es/marielalonneturismo/vuelos/resultados/BUE/...</td>\n",
       "      <td>8</td>\n",
       "      <td>2</td>\n",
       "      <td>00:04:48</td>\n",
       "      <td>0</td>\n",
       "      <td>0,00 %</td>\n",
       "      <td>0,00 %</td>\n",
       "      <td>0,00 US$</td>\n",
       "    </tr>\n",
       "    <tr>\n",
       "      <th>2</th>\n",
       "      <td>/es/tramuntana/vuelos/resultados/MAD/BUE/16-12...</td>\n",
       "      <td>8</td>\n",
       "      <td>4</td>\n",
       "      <td>00:05:39</td>\n",
       "      <td>1</td>\n",
       "      <td>0,00 %</td>\n",
       "      <td>25,00 %</td>\n",
       "      <td>0,00 US$</td>\n",
       "    </tr>\n",
       "    <tr>\n",
       "      <th>3</th>\n",
       "      <td>/es/sayonaratour/vuelos/resultados/BUE/MIA/28-...</td>\n",
       "      <td>7</td>\n",
       "      <td>3</td>\n",
       "      <td>00:06:49</td>\n",
       "      <td>0</td>\n",
       "      <td>0,00 %</td>\n",
       "      <td>28,57 %</td>\n",
       "      <td>0,00 US$</td>\n",
       "    </tr>\n",
       "    <tr>\n",
       "      <th>4</th>\n",
       "      <td>/es/adn/vuelos/resultados/JUJ/BUE/28-08-2021/?...</td>\n",
       "      <td>6</td>\n",
       "      <td>1</td>\n",
       "      <td>00:02:39</td>\n",
       "      <td>0</td>\n",
       "      <td>0,00 %</td>\n",
       "      <td>0,00 %</td>\n",
       "      <td>0,00 US$</td>\n",
       "    </tr>\n",
       "  </tbody>\n",
       "</table>\n",
       "</div>"
      ],
      "text/plain": [
       "                                              Página  \\\n",
       "0  /es/algarroboviajesyturismo/vuelos/resultados/...   \n",
       "1  /es/marielalonneturismo/vuelos/resultados/BUE/...   \n",
       "2  /es/tramuntana/vuelos/resultados/MAD/BUE/16-12...   \n",
       "3  /es/sayonaratour/vuelos/resultados/BUE/MIA/28-...   \n",
       "4  /es/adn/vuelos/resultados/JUJ/BUE/28-08-2021/?...   \n",
       "\n",
       "   Número de visitas a páginas  Número de páginas vistas únicas  \\\n",
       "0                            9                                5   \n",
       "1                            8                                2   \n",
       "2                            8                                4   \n",
       "3                            7                                3   \n",
       "4                            6                                1   \n",
       "\n",
       "  Promedio de tiempo en la página  Entradas Porcentaje de rebote  \\\n",
       "0                        00:05:57         2               0,00 %   \n",
       "1                        00:04:48         0               0,00 %   \n",
       "2                        00:05:39         1               0,00 %   \n",
       "3                        00:06:49         0               0,00 %   \n",
       "4                        00:02:39         0               0,00 %   \n",
       "\n",
       "  Porcentaje de salidas Valor de página  \n",
       "0               44,44 %        0,00 US$  \n",
       "1                0,00 %        0,00 US$  \n",
       "2               25,00 %        0,00 US$  \n",
       "3               28,57 %        0,00 US$  \n",
       "4                0,00 %        0,00 US$  "
      ]
     },
     "execution_count": 6,
     "metadata": {},
     "output_type": "execute_result"
    }
   ],
   "source": [
    "vuelos.head()"
   ]
  },
  {
   "cell_type": "code",
   "execution_count": null,
   "id": "2db336c0",
   "metadata": {},
   "outputs": [],
   "source": []
  }
 ],
 "metadata": {
  "kernelspec": {
   "display_name": "Python 3 (ipykernel)",
   "language": "python",
   "name": "python3"
  },
  "language_info": {
   "codemirror_mode": {
    "name": "ipython",
    "version": 3
   },
   "file_extension": ".py",
   "mimetype": "text/x-python",
   "name": "python",
   "nbconvert_exporter": "python",
   "pygments_lexer": "ipython3",
   "version": "3.9.7"
  }
 },
 "nbformat": 4,
 "nbformat_minor": 5
}
