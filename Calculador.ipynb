{
 "cells": [
  {
   "cell_type": "code",
   "execution_count": 5,
   "id": "occupational-jacksonville",
   "metadata": {},
   "outputs": [],
   "source": [
    "Coin1=5200\n",
    "Coin2=540\n",
    "Eth=310000\n",
    "Bit=240000\n",
    "Chg=150"
   ]
  },
  {
   "cell_type": "code",
   "execution_count": 6,
   "id": "studied-enhancement",
   "metadata": {},
   "outputs": [],
   "source": [
    "total=((Coin1+Coin2)*Chg)+(Eth+Bit)"
   ]
  },
  {
   "cell_type": "code",
   "execution_count": 7,
   "id": "alone-humor",
   "metadata": {},
   "outputs": [
    {
     "data": {
      "text/plain": [
       "1411000"
      ]
     },
     "execution_count": 7,
     "metadata": {},
     "output_type": "execute_result"
    }
   ],
   "source": [
    "total"
   ]
  },
  {
   "cell_type": "code",
   "execution_count": null,
   "id": "sorted-equipment",
   "metadata": {},
   "outputs": [],
   "source": []
  }
 ],
 "metadata": {
  "kernelspec": {
   "display_name": "Python 3",
   "language": "python",
   "name": "python3"
  },
  "language_info": {
   "codemirror_mode": {
    "name": "ipython",
    "version": 3
   },
   "file_extension": ".py",
   "mimetype": "text/x-python",
   "name": "python",
   "nbconvert_exporter": "python",
   "pygments_lexer": "ipython3",
   "version": "3.9.2"
  }
 },
 "nbformat": 4,
 "nbformat_minor": 5
}
