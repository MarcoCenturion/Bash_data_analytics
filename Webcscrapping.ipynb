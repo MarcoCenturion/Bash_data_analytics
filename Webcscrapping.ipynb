{
 "cells": [
  {
   "cell_type": "code",
   "execution_count": 1,
   "id": "f191b721",
   "metadata": {},
   "outputs": [],
   "source": [
    "#importar librerias\n",
    "import requests #peticiones al servidor\n",
    "import lxml.html as html\n",
    "import pandas as pd"
   ]
  },
  {
   "cell_type": "code",
   "execution_count": 3,
   "id": "4bddd701",
   "metadata": {},
   "outputs": [],
   "source": [
    "url_padre = 'https://books.toscrape.com/index.html'"
   ]
  },
  {
   "cell_type": "markdown",
   "id": "422e53f9",
   "metadata": {},
   "source": [
    "## Listado de expresiones XPATH"
   ]
  },
  {
   "cell_type": "code",
   "execution_count": null,
   "id": "7a8596bd",
   "metadata": {},
   "outputs": [],
   "source": [
    "# Obtener los links de las categorias de libros\n"
   ]
  }
 ],
 "metadata": {
  "kernelspec": {
   "display_name": "Python 3 (ipykernel)",
   "language": "python",
   "name": "python3"
  },
  "language_info": {
   "codemirror_mode": {
    "name": "ipython",
    "version": 3
   },
   "file_extension": ".py",
   "mimetype": "text/x-python",
   "name": "python",
   "nbconvert_exporter": "python",
   "pygments_lexer": "ipython3",
   "version": "3.10.2"
  }
 },
 "nbformat": 4,
 "nbformat_minor": 5
}
