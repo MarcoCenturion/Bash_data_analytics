{
 "cells": [
  {
   "cell_type": "markdown",
   "metadata": {},
   "source": [
    "![Los Molinos](https://static.wixstatic.com/media/04dbdd_6ac7a761fc94425cab4f6e71e79667fb~mv2.png/v1/fill/w_182,h_82,al_c,q_85,usm_0.66_1.00_0.01/LOGO%20LOS%20MOLINOS%20NUEVO.webp)\n",
    "---\n",
    "\n",
    "# Membresías Los Molinos\n",
    "\n",
    "## Análisis de componentes y factibilidad\n",
    "\n",
    "---\n",
    "\n"
   ]
  },
  {
   "cell_type": "code",
   "execution_count": 11,
   "metadata": {},
   "outputs": [
    {
     "ename": "SyntaxError",
     "evalue": "invalid syntax (<ipython-input-11-46466437765d>, line 1)",
     "output_type": "error",
     "traceback": [
      "\u001b[0;36m  File \u001b[0;32m\"<ipython-input-11-46466437765d>\"\u001b[0;36m, line \u001b[0;32m1\u001b[0m\n\u001b[0;31m    import\u001b[0m\n\u001b[0m           ^\u001b[0m\n\u001b[0;31mSyntaxError\u001b[0m\u001b[0;31m:\u001b[0m invalid syntax\n"
     ]
    }
   ],
   "source": [
    "import \n",
    "''' Definimos los costos\n",
    "'''\n",
    "\n",
    "CostoNoche = 33\n",
    "DesayunoNoche = 14 \n",
    "PaseoVelero = 20\n",
    "DolarOficial = 95\n",
    "DolarBlue = 141\n",
    "AlquilerVelero6hs = 50\n",
    "AlquilerLancha3hs = 50\n",
    "ExpensasXSemana = 245\n",
    "IntercambioNacional = 240\n",
    "IntercambioInternacional = 369\n",
    "Categorias = ['silver','gold','platinum']\n",
    "Semanas = [1,2,4]\n",
    "Years = [1,3,5]"
   ]
  },
  {
   "cell_type": "code",
   "execution_count": 12,
   "metadata": {},
   "outputs": [
    {
     "name": "stdout",
     "output_type": "stream",
     "text": [
      "-------\n",
      " Cuesta 33 por casa la noche\n"
     ]
    }
   ],
   "source": [
    "print(\"-------\\n\",\"Cuesta {} por casa la noche\".format(CostoNoche))"
   ]
  },
  {
   "cell_type": "markdown",
   "metadata": {},
   "source": [
    "## Objetivo\n",
    "\n",
    "- Setear costos\n",
    "- Visualizar un mapa de calor de Precios en Dólares\n",
    "- Idem en Pesos\n",
    "- Idem en cuotas en pesos\n"
   ]
  },
  {
   "cell_type": "code",
   "execution_count": 13,
   "metadata": {},
   "outputs": [
    {
     "name": "stdout",
     "output_type": "stream",
     "text": [
      "Silver: USD307.23 ARS29186\n",
      "Gold: USD345.17 ARS32791\n",
      "Platinum: USD379 ARS36005\n"
     ]
    }
   ],
   "source": [
    "'''Costos'''\n",
    "\n",
    "SemanaSilver=(CostoNoche*7)*1.33\n",
    "SemanaGold=(CostoNoche*7)*1.07+(DesayunoNoche*7)\n",
    "SemanaPlatinum=(CostoNoche*7)+(DesayunoNoche*7)+AlquilerLancha3hs\n",
    "\n",
    "print(\"Silver: USD\"+str(SemanaSilver)+\" ARS\"+str(int(SemanaSilver*DolarOficial)))\n",
    "print(\"Gold: USD\"+str(SemanaGold)+\" ARS\"+str(int(SemanaGold*DolarOficial)))\n",
    "print(\"Platinum: USD\"+str(SemanaPlatinum)+\" ARS\"+str(int(SemanaPlatinum*DolarOficial)))"
   ]
  },
  {
   "cell_type": "markdown",
   "metadata": {},
   "source": [
    "---\n",
    "## Membresía Gold\n",
    "\n",
    "- 7 días en Baja y 7 en Alta\n",
    "- Con desayuno\n",
    "- 1 Paseo en Velero o Lancha por semana\n",
    "- 30% Descuento en Restaurant\n",
    "- Membresía RCI\n"
   ]
  },
  {
   "cell_type": "code",
   "execution_count": 5,
   "metadata": {},
   "outputs": [
    {
     "name": "stdout",
     "output_type": "stream",
     "text": [
      "El precio para 1 años es Dólares: USD379 = en pesos: ARS53439\n",
      "\n",
      "El precio para 3 años es Dólares: USD1137 = en pesos: ARS160317\n",
      "\n",
      "El precio para 5 años es Dólares: USD1895 = en pesos: ARS267195\n",
      "\n"
     ]
    }
   ],
   "source": [
    "for i in Years:\n",
    "    precio=(i*SemanaPlatinum)\n",
    "    print(\"El precio para \" +str(i)+\" años es Dólares: USD\" +str(precio)+\" = en pesos: ARS\"+str(precio*DolarBlue)+\"\\n\")\n",
    "    exit"
   ]
  },
  {
   "cell_type": "markdown",
   "metadata": {},
   "source": [
    "*** \n",
    "---\n",
    "\n",
    "## Membresía Silver\n",
    "- 7 días en 1 año\n",
    "- Solo **Baja Temporada**\n",
    "- Fraccionable 4 y 3\n",
    "- Sin desayuno\n"
   ]
  },
  {
   "cell_type": "code",
   "execution_count": 9,
   "metadata": {
    "scrolled": true
   },
   "outputs": [
    {
     "name": "stdout",
     "output_type": "stream",
     "text": [
      "El precio para 1 años es Dólares: USD1228 = en pesos: ARS173277\n",
      "\n",
      "El precio para 3 años es Dólares: USD3686 = en pesos: ARS519833\n",
      "\n",
      "El precio para 5 años es Dólares: USD6144 = en pesos: ARS866388\n",
      "\n"
     ]
    }
   ],
   "source": [
    "for i in Years:\n",
    "    precio=(i*SemanaSilver)*4\n",
    "    print(\"El precio para \" +str(i)+\" años es Dólares: USD\" +str(int(precio))+\" = en pesos: ARS\"+str(int(precio*DolarBlue))+\"\\n\")\n",
    "    exit"
   ]
  },
  {
   "cell_type": "markdown",
   "metadata": {},
   "source": [
    "---\n",
    "\n",
    "### Un Año **Silver**\n",
    "- Solo Baja Temporada / Sin Desayuno\n",
    "- Fraccionable 3 + 4\n",
    "- Expensas anuales 35 por día\n",
    "\n",
    "\n",
    "|Años|7|14|\n",
    "|--|--|--|\n",
    "|Uno|43319|86638|\n",
    "|Tres|129958|259916|\n",
    "|Cinco|216597|433194|"
   ]
  },
  {
   "cell_type": "code",
   "execution_count": 16,
   "metadata": {},
   "outputs": [
    {
     "name": "stdout",
     "output_type": "stream",
     "text": [
      "El precio para 1 años es Dólares: USD690 = en pesos: ARS97337\n",
      "\n",
      "El precio para 3 años es Dólares: USD2071 = en pesos: ARS292013\n",
      "\n",
      "El precio para 5 años es Dólares: USD3451 = en pesos: ARS486689\n",
      "\n"
     ]
    }
   ],
   "source": [
    "for i in Years:\n",
    "    precio=(i*SemanaGold)*2\n",
    "    print(\"El precio para \" +str(i)+\" años es Dólares: USD\" +str(int(precio))+\" = en pesos: ARS\"+str(int(precio*DolarBlue))+\"\\n\")\n",
    "    exit"
   ]
  },
  {
   "cell_type": "markdown",
   "metadata": {},
   "source": [
    "---\n",
    "\n",
    "### Un Año **Gold**\n",
    "- Una semana baja fraccionable en 2\n",
    "- Una semana en Alta Temporada\n",
    "- Fraccionable \n",
    "- Expensas anuales 35 por día\n",
    "\n",
    "\n",
    "|Años|7|14|21|28\n",
    "|--|--|--|--|--|\n",
    "|Uno|32791|65582\n",
    "|Tres|98373|196746\n",
    "|Cinco|163955|327911\n"
   ]
  },
  {
   "cell_type": "code",
   "execution_count": null,
   "metadata": {},
   "outputs": [],
   "source": []
  }
 ],
 "metadata": {
  "kernelspec": {
   "display_name": "Python 3",
   "language": "python",
   "name": "python3"
  },
  "language_info": {
   "codemirror_mode": {
    "name": "ipython",
    "version": 3
   },
   "file_extension": ".py",
   "mimetype": "text/x-python",
   "name": "python",
   "nbconvert_exporter": "python",
   "pygments_lexer": "ipython3",
   "version": "3.9.2"
  }
 },
 "nbformat": 4,
 "nbformat_minor": 4
}
