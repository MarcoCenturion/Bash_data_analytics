{
 "cells": [
  {
   "cell_type": "markdown",
   "metadata": {},
   "source": [
    "![Los Molinos](https://static.wixstatic.com/media/04dbdd_6ac7a761fc94425cab4f6e71e79667fb~mv2.png/v1/fill/w_182,h_82,al_c,q_85,usm_0.66_1.00_0.01/LOGO%20LOS%20MOLINOS%20NUEVO.webp)\n",
    "---\n",
    "\n",
    "# Membresías Los Molinos\n",
    "\n",
    "## Análisis de componentes y factibilidad\n",
    "\n",
    "---\n",
    "\n"
   ]
  },
  {
   "cell_type": "code",
   "execution_count": 6,
   "metadata": {},
   "outputs": [],
   "source": [
    "''' Definimos los costos\n",
    "'''\n",
    "\n",
    "CostoNoche = 33\n",
    "DesayunoNoche = 14 \n",
    "PaseoVelero = 20\n",
    "DolarOficial = 95\n",
    "DolarBlue = 141\n",
    "AlquilerVelero6hs = 50\n",
    "AlquilerLancha3hs = 50\n",
    "ExpensasXSemana = 245\n",
    "IntercambioNacional = 240\n",
    "IntercambioInternacional = 369\n",
    "Categorias = ['silver','gold','platinum']\n",
    "Semanas = [1,2,4]\n",
    "Years = [1,3,5]"
   ]
  },
  {
   "cell_type": "markdown",
   "metadata": {},
   "source": [
    "## Objetivo\n",
    "\n",
    "- Setear costos\n",
    "- Visualizar un mapa de calor de Precios en Dólares\n",
    "- Idem en Pesos\n",
    "- Idem en cuotas en pesos\n"
   ]
  },
  {
   "cell_type": "code",
   "execution_count": 27,
   "metadata": {},
   "outputs": [
    {
     "name": "stdout",
     "output_type": "stream",
     "text": [
      "Silver: USD307.23 ARS29186\n",
      "Gold: USD345.17 ARS32791\n",
      "Platinum: USD379 ARS36005\n"
     ]
    }
   ],
   "source": [
    "'''Costos'''\n",
    "\n",
    "SemanaSilver=(CostoNoche*7)*1.33\n",
    "SemanaGold=(CostoNoche*7)*1.07+(DesayunoNoche*7)\n",
    "SemanaPlatinum=(CostoNoche*7)+(DesayunoNoche*7)+AlquilerLancha3hs\n",
    "\n",
    "print(\"Silver: USD\"+str(SemanaSilver)+\" ARS\"+str(int(SemanaSilver*DolarOficial)))\n",
    "print(\"Gold: USD\"+str(SemanaGold)+\" ARS\"+str(int(SemanaGold*DolarOficial)))\n",
    "print(\"Platinum: USD\"+str(SemanaPlatinum)+\" ARS\"+str(int(SemanaPlatinum*DolarOficial)))"
   ]
  },
  {
   "cell_type": "code",
   "execution_count": 5,
   "metadata": {},
   "outputs": [
    {
     "name": "stdout",
     "output_type": "stream",
     "text": [
      "El precio para 1 años es Dólares: USD323 = en pesos: ARS31331\n",
      "\n",
      "El precio para 3 años es Dólares: USD969 = en pesos: ARS93993\n",
      "\n",
      "El precio para 5 años es Dólares: USD1615 = en pesos: ARS156655\n",
      "\n"
     ]
    }
   ],
   "source": [
    "for i in Years:\n",
    "    precio=(i*SemanaPlatinum)\n",
    "    print(\"El precio para \" +str(i)+\" años es Dólares: USD\" +str(precio)+\" = en pesos: ARS\"+str(precio*DolarOficial)+\"\\n\")\n",
    "    exit"
   ]
  },
  {
   "cell_type": "markdown",
   "metadata": {},
   "source": [
    "*** \n",
    "---\n",
    "\n",
    "## Membresía Silver\n",
    "- 7 días en 1 año\n",
    "- Solo **Baja Temporada**\n",
    "- Fraccionable 4 y 3\n",
    "- Sin desayuno\n"
   ]
  },
  {
   "cell_type": "code",
   "execution_count": 29,
   "metadata": {
    "scrolled": true
   },
   "outputs": [
    {
     "name": "stdout",
     "output_type": "stream",
     "text": [
      "El precio para 1 años es Dólares: USD307 = en pesos: ARS29186\n",
      "\n",
      "El precio para 3 años es Dólares: USD921 = en pesos: ARS87560\n",
      "\n",
      "El precio para 5 años es Dólares: USD1536 = en pesos: ARS145934\n",
      "\n"
     ]
    }
   ],
   "source": [
    "for i in Years:\n",
    "    precio=(i*SemanaSilver)\n",
    "    print(\"El precio para \" +str(i)+\" años es Dólares: USD\" +str(int(precio))+\" = en pesos: ARS\"+str(int(precio*DolarOficial))+\"\\n\")\n",
    "    exit"
   ]
  },
  {
   "cell_type": "markdown",
   "metadata": {},
   "source": [
    "---\n",
    "## Membresía Gold\n",
    "\n",
    "- 7 días en Baja y 7 en Alta\n",
    "- Con desayuno\n",
    "- 1 Paseo en Velero o Lancha por semana\n",
    "- 30% Descuento en Restaurant\n",
    "- Membresía RCI\n"
   ]
  },
  {
   "cell_type": "code",
   "execution_count": 31,
   "metadata": {},
   "outputs": [
    {
     "name": "stdout",
     "output_type": "stream",
     "text": [
      "El precio para 1 años es Dólares: USD690 = en pesos: ARS65582\n",
      "\n",
      "El precio para 3 años es Dólares: USD2071 = en pesos: ARS196746\n",
      "\n",
      "El precio para 5 años es Dólares: USD3451 = en pesos: ARS327911\n",
      "\n"
     ]
    }
   ],
   "source": [
    "for i in Years:\n",
    "    precio=((i*SemanaGold)*2)\n",
    "    print(\"El precio para \" +str(i)+\" años es Dólares: USD\" +str(int(precio))+\" = en pesos: ARS\"+str(int(precio*DolarOficial))+\"\\n\")\n",
    "    exit"
   ]
  },
  {
   "cell_type": "markdown",
   "metadata": {},
   "source": [
    "---\n",
    "\n",
    "- Un Año **Silver**\n",
    "- Solo Baja Temporada / Sin Desayuno\n",
    "- Fraccionable 3 + 4\n",
    "\n",
    "|7|14|21|28|\n",
    "|--|--|--|--|\n",
    "|29186|58372|87558|116774|\n",
    "\n",
    "---\n",
    "- Idem 3 años\n",
    "\n",
    "|7|14|21|28|\n",
    "|--|--|--|--|\n",
    "|87558|175116|262674|350322|\n",
    "\n",
    "---\n",
    "- Idem 5 años\n",
    "\n",
    "|7|14|21|28|\n",
    "|--|--|--|--|\n",
    "|145930|291860|437790|583870|\n"
   ]
  },
  {
   "cell_type": "code",
   "execution_count": null,
   "metadata": {},
   "outputs": [],
   "source": [
    "\n",
    "\n"
   ]
  }
 ],
 "metadata": {
  "kernelspec": {
   "display_name": "Python 3",
   "language": "python",
   "name": "python3"
  },
  "language_info": {
   "codemirror_mode": {
    "name": "ipython",
    "version": 3
   },
   "file_extension": ".py",
   "mimetype": "text/x-python",
   "name": "python",
   "nbconvert_exporter": "python",
   "pygments_lexer": "ipython3",
   "version": "3.9.2"
  }
 },
 "nbformat": 4,
 "nbformat_minor": 4
}
