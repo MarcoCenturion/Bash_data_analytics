{
 "cells": [
  {
   "cell_type": "code",
   "execution_count": 3,
   "id": "0af04e0e",
   "metadata": {},
   "outputs": [],
   "source": [
    "from bs4 import BeautifulSoup\n",
    "import requests\n",
    "import pandas as pd"
   ]
  },
  {
   "cell_type": "code",
   "execution_count": 41,
   "id": "e276af63",
   "metadata": {},
   "outputs": [],
   "source": [
    "url = \"https://www.aa2000.com.ar/aeroparque\"\n",
    "page = requests.get(url)\n",
    "soup = BeautifulSoup(page.content, 'html.parser')"
   ]
  },
  {
   "cell_type": "code",
   "execution_count": 42,
   "id": "8e5cef2e",
   "metadata": {},
   "outputs": [
    {
     "name": "stdout",
     "output_type": "stream",
     "text": [
      "[<td class=\"vuelo\">AR 1871</td>, <td class=\"vuelo\">AR 1473</td>, <td class=\"vuelo\">WJ 3243</td>, <td class=\"vuelo\">AR 1491</td>, <td class=\"vuelo\">AR 1687</td>, <td class=\"vuelo\">AR 1481</td>, <td class=\"vuelo\">AR 1745</td>, <td class=\"vuelo\">AR 1895</td>, <td class=\"vuelo\">FO 5055</td>, <td class=\"vuelo\">AR 1823</td>, <td class=\"vuelo\">AR 1247</td>, <td class=\"vuelo\">AR 1825</td>, <td class=\"vuelo\">AR 1331</td>, <td class=\"vuelo\">AR 1845</td>, <td class=\"vuelo\">AR 1341</td>, <td class=\"vuelo\">AR 1263</td>, <td class=\"vuelo\">AR 1221</td>, <td class=\"vuelo\">AR 1365</td>, <td class=\"vuelo\">AR 1369</td>, <td class=\"vuelo\">LA 2431</td>, <td class=\"vuelo\">AR 1531</td>, <td class=\"vuelo\">G3 7650</td>, <td class=\"vuelo\">FO 5051</td>, <td class=\"vuelo\">AR 1471</td>, <td class=\"vuelo\">AR 1771</td>, <td class=\"vuelo\">AR 1685</td>, <td class=\"vuelo\">LA 8042</td>, <td class=\"vuelo\">AR 1603</td>, <td class=\"vuelo\">AR 1651</td>, <td class=\"vuelo\">AR 1529</td>, <td class=\"vuelo\">AR 1855</td>, <td class=\"vuelo\">WJ 3185</td>, <td class=\"vuelo\">WJ 3445</td>, <td class=\"vuelo\">AR 1401</td>, <td class=\"vuelo\">AR 1743</td>, <td class=\"vuelo\">LA 439</td>, <td class=\"vuelo\">FO 5311</td>, <td class=\"vuelo\">WJ 3641</td>, <td class=\"vuelo\">FO 5239</td>, <td class=\"vuelo\">FO 5161</td>, <td class=\"vuelo\">WJ 3490</td>, <td class=\"vuelo\">AR 1883</td>, <td class=\"vuelo\">AR 1483</td>, <td class=\"vuelo\">WJ 3460</td>, <td class=\"vuelo\">AR 1355</td>, <td class=\"vuelo\">AR 1903</td>, <td class=\"vuelo\">AR 1453</td>, <td class=\"vuelo\">AR 1733</td>, <td class=\"vuelo\">AR 1261</td>, <td class=\"vuelo\">AR 1679</td>, <td class=\"vuelo\">AR 1443</td>, <td class=\"vuelo\">AR 1412</td>, <td class=\"vuelo\">AR 1381</td>, <td class=\"vuelo\">AR 1281</td>, <td class=\"vuelo\">AR 1241</td>, <td class=\"vuelo\">AR 1409</td>, <td class=\"vuelo\">G3 7682</td>, <td class=\"vuelo\">AR 1457</td>, <td class=\"vuelo\">AR 1851</td>, <td class=\"vuelo\">AR 1421</td>, <td class=\"vuelo\">WJ 3267</td>, <td class=\"vuelo\">AR 1623</td>, <td class=\"vuelo\">WJ 3241</td>, <td class=\"vuelo\">AR 1931</td>, <td class=\"vuelo\">AR 1431</td>, <td class=\"vuelo\">AR 1423</td>, <td class=\"vuelo\">FO 5121</td>, <td class=\"vuelo\">AR 1821</td>, <td class=\"vuelo\">AR 1887</td>, <td class=\"vuelo\">AR 1503</td>, <td class=\"vuelo\">LA 8008</td>, <td class=\"vuelo\">AR 1698</td>, <td class=\"vuelo\">AR 1863</td>, <td class=\"vuelo\">AR 1671</td>, <td class=\"vuelo\">AR 1701</td>, <td class=\"vuelo\">FO 5273</td>, <td class=\"vuelo\">LA 2427</td>, <td class=\"vuelo\">AR 1485</td>, <td class=\"vuelo\">FO 5101</td>, <td class=\"vuelo\">G3 7684</td>, <td class=\"vuelo\">WJ 3501</td>, <td class=\"vuelo\">AR 1783</td>, <td class=\"vuelo\">AR 1509</td>, <td class=\"vuelo\">AR 1405</td>, <td class=\"vuelo\">WJ 3447</td>, <td class=\"vuelo\">WJ 3621</td>, <td class=\"vuelo\">AR 1621</td>, <td class=\"vuelo\">AR 1353</td>, <td class=\"vuelo\">FO 5303</td>, <td class=\"vuelo\">FO 5053</td>, <td class=\"vuelo\">AR 1696</td>, <td class=\"vuelo\">AR 1657</td>, <td class=\"vuelo\">JA 1003</td>, <td class=\"vuelo\">AR 1413</td>, <td class=\"vuelo\">AR 1667</td>, <td class=\"vuelo\">AR 1869</td>, <td class=\"vuelo\">AR 1729</td>, <td class=\"vuelo\">ZP 818</td>, <td class=\"vuelo\">AR 1505</td>, <td class=\"vuelo\">AR 1689</td>, <td class=\"vuelo\">AR 1441</td>, <td class=\"vuelo\">AR 1455</td>, <td class=\"vuelo\">AR 1801</td>, <td class=\"vuelo\">AR 1857</td>, <td class=\"vuelo\">AR 1243</td>, <td class=\"vuelo\">AJ 531</td>, <td class=\"vuelo\">WJ 3269</td>, <td class=\"vuelo\">AR 1681</td>, <td class=\"vuelo\">AR 1520</td>, <td class=\"vuelo\">AR 1403</td>, <td class=\"vuelo\">FO 5225</td>, <td class=\"vuelo\">AR 1867</td>, <td class=\"vuelo\">AR 1655</td>, <td class=\"vuelo\">AR 1881</td>, <td class=\"vuelo\">AR 1605</td>, <td class=\"vuelo\">AR 1451</td>, <td class=\"vuelo\">AR 1739</td>, <td class=\"vuelo\">AR 1283</td>, <td class=\"vuelo\">AR 1761</td>, <td class=\"vuelo\">AR 1691</td>, <td class=\"vuelo\">WJ 3243</td>, <td class=\"vuelo\">AR 1873</td>, <td class=\"vuelo\">FO 5015</td>, <td class=\"vuelo\">AR 1882</td>, <td class=\"vuelo\">AR 1470</td>, <td class=\"vuelo\">AR 1862</td>, <td class=\"vuelo\">WJ 3461</td>, <td class=\"vuelo\">AR 1684</td>, <td class=\"vuelo\">WJ 3491</td>, <td class=\"vuelo\">FO 5050</td>, <td class=\"vuelo\">WJ 3640</td>, <td class=\"vuelo\">AR 1650</td>, <td class=\"vuelo\">AR 1854</td>, <td class=\"vuelo\">AR 1260</td>, <td class=\"vuelo\">AR 1820</td>, <td class=\"vuelo\">AR 1742</td>, <td class=\"vuelo\">AR 1770</td>, <td class=\"vuelo\">AR 1400</td>, <td class=\"vuelo\">WJ 3444</td>, <td class=\"vuelo\">FO 5310</td>, <td class=\"vuelo\">AR 1528</td>, <td class=\"vuelo\">AR 1240</td>, <td class=\"vuelo\">FO 5160</td>, <td class=\"vuelo\">AR 1602</td>, <td class=\"vuelo\">AR 1420</td>, <td class=\"vuelo\">AR 1482</td>, <td class=\"vuelo\">AR 1452</td>, <td class=\"vuelo\">LA 2430</td>, <td class=\"vuelo\">AR 1678</td>, <td class=\"vuelo\">AR 1698</td>, <td class=\"vuelo\">AR 1732</td>, <td class=\"vuelo\">AR 1902</td>, <td class=\"vuelo\">AR 1280</td>, <td class=\"vuelo\">AR 1886</td>, <td class=\"vuelo\">AR 1868</td>, <td class=\"vuelo\">AR 1412</td>, <td class=\"vuelo\">AR 1442</td>, <td class=\"vuelo\">AR 1456</td>, <td class=\"vuelo\">AR 1700</td>, <td class=\"vuelo\">AR 1408</td>, <td class=\"vuelo\">AR 1354</td>, <td class=\"vuelo\">AR 1730</td>, <td class=\"vuelo\">AR 1850</td>, <td class=\"vuelo\">G3 7653</td>, <td class=\"vuelo\">AR 1696</td>, <td class=\"vuelo\">AR 1508</td>, <td class=\"vuelo\">AR 1866</td>, <td class=\"vuelo\">FO 5300</td>, <td class=\"vuelo\">AR 1380</td>, <td class=\"vuelo\">AR 1930</td>, <td class=\"vuelo\">LA 8045</td>, <td class=\"vuelo\">AR 1454</td>, <td class=\"vuelo\">WJ 3240</td>, <td class=\"vuelo\">AR 1422</td>, <td class=\"vuelo\">AR 1670</td>, <td class=\"vuelo\">WJ 3266</td>, <td class=\"vuelo\">AR 1430</td>, <td class=\"vuelo\">AR 1622</td>, <td class=\"vuelo\">LA 440</td>, <td class=\"vuelo\">AR 1688</td>, <td class=\"vuelo\">FO 5272</td>, <td class=\"vuelo\">FO 5120</td>, <td class=\"vuelo\">AR 1502</td>, <td class=\"vuelo\">AR 1656</td>, <td class=\"vuelo\">AR 1484</td>, <td class=\"vuelo\">AR 1680</td>, <td class=\"vuelo\">FO 5100</td>, <td class=\"vuelo\">WJ 3500</td>, <td class=\"vuelo\">AR 1404</td>, <td class=\"vuelo\">AR 1782</td>, <td class=\"vuelo\">AR 1800</td>, <td class=\"vuelo\">WJ 3446</td>, <td class=\"vuelo\">AR 1666</td>, <td class=\"vuelo\">AR 1880</td>, <td class=\"vuelo\">AR 1242</td>, <td class=\"vuelo\">WJ 3620</td>, <td class=\"vuelo\">AR 1620</td>, <td class=\"vuelo\">AR 1352</td>, <td class=\"vuelo\">AR 1870</td>, <td class=\"vuelo\">WJ 3492</td>, <td class=\"vuelo\">G3 7675</td>, <td class=\"vuelo\">AR 1440</td>, <td class=\"vuelo\">WJ 3394</td>, <td class=\"vuelo\">AR 1520</td>, <td class=\"vuelo\">AR 1856</td>, <td class=\"vuelo\">AR 1504</td>, <td class=\"vuelo\">FO 5190</td>, <td class=\"vuelo\">AR 1728</td>, <td class=\"vuelo\">AR 1282</td>, <td class=\"vuelo\">LA 8009</td>, <td class=\"vuelo\">AR 1450</td>, <td class=\"vuelo\">AJ 530</td>, <td class=\"vuelo\">AR 1402</td>, <td class=\"vuelo\">AR 1690</td>, <td class=\"vuelo\">AR 1654</td>, <td class=\"vuelo\">AR 1738</td>, <td class=\"vuelo\">AR 1530</td>, <td class=\"vuelo\">AR 1364</td>, <td class=\"vuelo\">FO 5224</td>, <td class=\"vuelo\">FO 5270</td>, <td class=\"vuelo\">AR 1472</td>, <td class=\"vuelo\">WJ 3268</td>, <td class=\"vuelo\">AR 1760</td>, <td class=\"vuelo\">G3 7685</td>, <td class=\"vuelo\">AR 1686</td>, <td class=\"vuelo\">LA 2426</td>, <td class=\"vuelo\">WJ 3242</td>, <td class=\"vuelo\">AR 1822</td>, <td class=\"vuelo\">WJ 3182</td>, <td class=\"vuelo\">AR 1604</td>, <td class=\"vuelo\">AR 1480</td>, <td class=\"vuelo\">AR 1490</td>, <td class=\"vuelo\">AR 1762</td>, <td class=\"vuelo\">FO 5162</td>, <td class=\"vuelo\">FO 5016</td>, <td class=\"vuelo\">JA 1004</td>, <td class=\"vuelo\">AR 1844</td>, <td class=\"vuelo\">AR 1984</td>, <td class=\"vuelo\">ZP 819</td>, <td class=\"vuelo\">AR 1262</td>, <td class=\"vuelo\">AR 1824</td>, <td class=\"vuelo\">AR 1368</td>, <td class=\"vuelo\">FO 5276</td>, <td class=\"vuelo\">AR 1340</td>]\n"
     ]
    }
   ],
   "source": [
    "#vuelos\n",
    "\n",
    "vu = soup.find_all('td', class_='vuelo')\n",
    "print(vu)"
   ]
  },
  {
   "cell_type": "code",
   "execution_count": 43,
   "id": "c1dc7380",
   "metadata": {},
   "outputs": [
    {
     "name": "stdout",
     "output_type": "stream",
     "text": [
      "['AR 1871', 'AR 1473', 'WJ 3243', 'AR 1491', 'AR 1687', 'AR 1481', 'AR 1745', 'AR 1895', 'FO 5055', 'AR 1823', 'AR 1247', 'AR 1825', 'AR 1331', 'AR 1845', 'AR 1341', 'AR 1263', 'AR 1221', 'AR 1365', 'AR 1369', 'LA 2431', 'AR 1531', 'G3 7650', 'FO 5051', 'AR 1471', 'AR 1771', 'AR 1685', 'LA 8042', 'AR 1603', 'AR 1651', 'AR 1529', 'AR 1855', 'WJ 3185', 'WJ 3445', 'AR 1401', 'AR 1743', 'LA 439', 'FO 5311', 'WJ 3641', 'FO 5239', 'FO 5161', 'WJ 3490', 'AR 1883', 'AR 1483', 'WJ 3460', 'AR 1355', 'AR 1903', 'AR 1453', 'AR 1733', 'AR 1261', 'AR 1679', 'AR 1443', 'AR 1412', 'AR 1381', 'AR 1281', 'AR 1241', 'AR 1409', 'G3 7682', 'AR 1457', 'AR 1851', 'AR 1421', 'WJ 3267', 'AR 1623', 'WJ 3241', 'AR 1931', 'AR 1431', 'AR 1423', 'FO 5121', 'AR 1821', 'AR 1887', 'AR 1503', 'LA 8008', 'AR 1698', 'AR 1863', 'AR 1671', 'AR 1701', 'FO 5273', 'LA 2427', 'AR 1485', 'FO 5101', 'G3 7684', 'WJ 3501', 'AR 1783', 'AR 1509', 'AR 1405', 'WJ 3447', 'WJ 3621', 'AR 1621', 'AR 1353', 'FO 5303', 'FO 5053', 'AR 1696', 'AR 1657', 'JA 1003', 'AR 1413', 'AR 1667', 'AR 1869', 'AR 1729', 'ZP 818', 'AR 1505', 'AR 1689', 'AR 1441', 'AR 1455', 'AR 1801', 'AR 1857', 'AR 1243', 'AJ 531', 'WJ 3269', 'AR 1681', 'AR 1520', 'AR 1403', 'FO 5225', 'AR 1867', 'AR 1655', 'AR 1881', 'AR 1605', 'AR 1451', 'AR 1739', 'AR 1283', 'AR 1761', 'AR 1691', 'WJ 3243', 'AR 1873', 'FO 5015', 'AR 1882', 'AR 1470', 'AR 1862', 'WJ 3461', 'AR 1684', 'WJ 3491', 'FO 5050', 'WJ 3640', 'AR 1650', 'AR 1854', 'AR 1260', 'AR 1820', 'AR 1742', 'AR 1770', 'AR 1400', 'WJ 3444', 'FO 5310', 'AR 1528', 'AR 1240', 'FO 5160', 'AR 1602', 'AR 1420', 'AR 1482', 'AR 1452', 'LA 2430', 'AR 1678', 'AR 1698', 'AR 1732', 'AR 1902', 'AR 1280', 'AR 1886', 'AR 1868', 'AR 1412', 'AR 1442', 'AR 1456', 'AR 1700', 'AR 1408', 'AR 1354', 'AR 1730', 'AR 1850', 'G3 7653', 'AR 1696', 'AR 1508', 'AR 1866', 'FO 5300', 'AR 1380', 'AR 1930', 'LA 8045', 'AR 1454', 'WJ 3240', 'AR 1422', 'AR 1670', 'WJ 3266', 'AR 1430', 'AR 1622', 'LA 440', 'AR 1688', 'FO 5272', 'FO 5120', 'AR 1502', 'AR 1656', 'AR 1484', 'AR 1680', 'FO 5100', 'WJ 3500', 'AR 1404', 'AR 1782', 'AR 1800', 'WJ 3446', 'AR 1666', 'AR 1880', 'AR 1242', 'WJ 3620', 'AR 1620', 'AR 1352', 'AR 1870', 'WJ 3492', 'G3 7675', 'AR 1440', 'WJ 3394', 'AR 1520', 'AR 1856', 'AR 1504', 'FO 5190', 'AR 1728', 'AR 1282', 'LA 8009', 'AR 1450', 'AJ 530', 'AR 1402', 'AR 1690', 'AR 1654', 'AR 1738', 'AR 1530', 'AR 1364', 'FO 5224', 'FO 5270', 'AR 1472', 'WJ 3268', 'AR 1760', 'G3 7685', 'AR 1686', 'LA 2426', 'WJ 3242', 'AR 1822', 'WJ 3182', 'AR 1604', 'AR 1480', 'AR 1490', 'AR 1762', 'FO 5162', 'FO 5016', 'JA 1004', 'AR 1844', 'AR 1984', 'ZP 819', 'AR 1262', 'AR 1824', 'AR 1368', 'FO 5276', 'AR 1340']\n"
     ]
    }
   ],
   "source": [
    "vuelos = list()\n",
    "for i in vu:\n",
    "    vuelos.append(i.text)\n",
    "\n",
    "print(vuelos)"
   ]
  },
  {
   "cell_type": "code",
   "execution_count": 44,
   "id": "4a2bb64e",
   "metadata": {},
   "outputs": [
    {
     "name": "stdout",
     "output_type": "stream",
     "text": [
      "['El Calafate', 'Jujuy', 'Mendoza', 'Santiago del Estero', 'Bariloche', 'Tucumán', 'Iguazú', 'Ushuaia', 'Mendoza', 'Comodoro Rivadavia', 'San Pablo-Guarulhos', 'Comodoro Rivadavia', 'Florianópolis', 'Rio Grande', 'Asunción', 'Río de Janeiro', 'Salvador de Bahía', 'Lima', 'Santa Cruz de la Sierra', 'Lima', 'Córdoba', 'Río de Janeiro', 'Mendoza', 'Jujuy', 'Corrientes', 'Bariloche', 'San Pablo-Guarulhos', 'Mar del Plata', 'Neuquén', 'Córdoba', 'Trelew', 'Bariloche', 'Neuquén', 'Mendoza', 'Iguazú', 'Santiago de Chile', 'Trelew', 'Comodoro Rivadavia', 'Bariloche', 'Salta', 'El Calafate', 'Ushuaia', 'Tucumán', 'Ushuaia', 'Punta del Este', 'Termas de Río Hondo', 'Salta', 'Iguazú', 'Río de Janeiro', 'Bariloche', 'Catamarca', 'Mendoza', 'Montevideo', 'Santiago de Chile', 'San Pablo-Guarulhos', 'Mendoza', 'San Pablo-Guarulhos', 'Salta', 'Trelew', 'Córdoba', 'Córdoba', 'Bahía Blanca', 'Mendoza', 'Iguazú', 'San Luis', 'San Juan', 'Posadas', 'Comodoro Rivadavia', 'Ushuaia', 'Córdoba', 'San Pablo-Guarulhos', 'El Calafate', 'Ushuaia', 'San Martín de los Andes', 'Rosario', 'Bariloche', 'Lima', 'Tucumán', 'Iguazú', 'San Pablo-Guarulhos', 'Tucumán', 'Resistencia', 'Córdoba', 'Mendoza', 'Neuquén', 'Corrientes', 'Bahía Blanca', 'Punta del Este', 'Neuquén', 'Mendoza', 'Bariloche', 'Neuquén', 'Santiago de Chile', 'Salta', 'Esquel', 'El Calafate', 'Paraná', 'Asunción', 'Córdoba', 'Bariloche', 'La Rioja', 'Salta', 'Rio Gallegos', 'Puerto Madryn', 'San Pablo-Guarulhos', 'Mendoza', 'Córdoba', 'Bariloche', 'Río Cuarto', 'Mendoza', 'Tucumán', 'El Calafate', 'Neuquén', 'Ushuaia', 'Mar del Plata', 'Salta', 'Iguazú', 'Santiago de Chile', 'Formosa', 'Bariloche', 'Mendoza', 'El Calafate', 'Córdoba', 'Ushuaia', 'Jujuy', 'Ushuaia', 'Ushuaia', 'Bariloche', 'El Calafate', 'Mendoza', 'Comodoro Rivadavia', 'Neuquén', 'Trelew', 'Río de Janeiro', 'Comodoro Rivadavia', 'Iguazú', 'Corrientes', 'Mendoza', 'Neuquén', 'Trelew', 'Córdoba', 'San Pablo-Guarulhos', 'Salta', 'Mar del Plata', 'San Juan', 'Tucumán', 'Salta', 'Lima', 'Bariloche', 'Bariloche', 'Iguazú', 'Termas de Río Hondo', 'Santiago de Chile', 'Ushuaia', 'El Calafate', 'Mendoza', 'Catamarca', 'Salta', 'Rosario', 'Mendoza', 'Punta del Este', 'Salta', 'Trelew', 'Río de Janeiro', 'El Calafate', 'Córdoba', 'Ushuaia', 'Neuquén', 'Montevideo', 'Iguazú', 'San Pablo-Guarulhos', 'Salta', 'Mendoza', 'Córdoba', 'San Martín de los Andes', 'Córdoba', 'San Luis', 'Bahía Blanca', 'Santiago de Chile', 'Bariloche', 'Bariloche', 'Posadas', 'Córdoba', 'Neuquén', 'Tucumán', 'Bariloche', 'Iguazú', 'Tucumán', 'Mendoza', 'Resistencia', 'Rio Gallegos', 'Neuquén', 'Esquel', 'Ushuaia', 'San Pablo-Guarulhos', 'Corrientes', 'Bahía Blanca', 'Punta del Este', 'El Calafate', 'Salta', 'San Pablo-Guarulhos', 'La Rioja', 'Iguazú', 'Santa Rosa', 'Puerto Madryn', 'Córdoba', 'Jujuy', 'Paraná', 'Santiago de Chile', 'San Pablo-Guarulhos', 'Salta', 'Mendoza', 'Mendoza', 'Bariloche', 'Neuquén', 'Iguazú', 'Córdoba', 'Lima', 'Tucumán', 'Bariloche', 'Jujuy', 'Córdoba', 'Formosa', 'San Pablo-Guarulhos', 'Bariloche', 'Lima', 'Mendoza', 'Comodoro Rivadavia', 'Bariloche', 'Mar del Plata', 'Tucumán', 'Santiago del Estero', 'Posadas', 'Salta', 'Córdoba', 'Santiago de Chile', 'Rio Grande', 'Córdoba', 'Asunción', 'Río de Janeiro', 'Comodoro Rivadavia', 'Santa Cruz de la Sierra', 'Bariloche', 'Asunción']\n"
     ]
    }
   ],
   "source": [
    "origen = list()\n",
    "ori = soup.find_all('td', class_='ciudad')\n",
    "for j in ori:\n",
    "    origen.append(j.text)\n",
    "\n",
    "print(origen)"
   ]
  },
  {
   "cell_type": "code",
   "execution_count": 45,
   "id": "4a757610",
   "metadata": {},
   "outputs": [
    {
     "name": "stdout",
     "output_type": "stream",
     "text": [
      "['Aterrizado (23:45)', 'Aterrizado (23:54)', 'Aterrizado (00:19)', 'Aterrizado (00:41)', 'Aterrizado (00:12)', 'Aterrizado (00:32)', 'Aterrizado (00:25)', 'Aterrizado (01:27)', 'Aterrizado (01:59)', 'Aterrizado (01:30)', 'Aterrizado (03:39)', 'Aterrizado (03:47)', 'Aterrizado (03:32)', 'Aterrizado (04:18)', 'Aterrizado (04:27)', 'Aterrizado (04:53)', 'Aterrizado (05:31)', 'Aterrizado (05:17)', 'Aterrizado (05:54)', 'Aterrizado (06:30)', 'Aterrizado (09:03)', 'Aterrizado (09:39)', 'Aterrizado (09:51)', 'Aterrizado (09:59)', 'Aterrizado (10:06)', 'Aterrizado (10:19)', 'Aterrizado (10:39)', 'Aterrizado (10:10)', 'Aterrizado (10:14)', 'Aterrizado (10:28)', 'Aterrizado (10:34)', 'Aterrizado (10:45)', 'Aterrizado (11:00)', 'Aterrizado (11:11)', 'Aterrizado (11:16)', 'Aterrizado (11:36)', 'Aterrizado (11:08)', 'Aterrizado (11:18)', 'Aterrizado (11:22)', 'Aterrizado (11:54)', 'Aterrizado (12:15)', 'Aterrizado (12:17)', 'Aterrizado (12:05)', 'Aterrizado (12:30)', 'Aterrizado (12:24)', 'Aterrizado (12:48)', 'Aterrizado (12:44)', 'Aterrizado (12:40)', 'Aterrizado (13:03)', 'Aterrizado (13:05)', 'Aterrizado (13:32)', 'Aterrizado (13:30)', 'Aterrizado (13:26)', 'Aterrizado (13:41)', 'Estima', 'Estima', 'Estima', 'Estima', 'Estima', 'Estima', '--', '--', '--', 'Estima', '--', '--', '--', '--', 'Estima', '--', '--', '--', 'Estima', '--', '--', '--', '--', '--', '--', '--', '--', '--', '--', '--', '--', '--', '--', '--', '--', '--', '--', '--', '--', '--', '--', '--', '--', '--', '--', '--', '--', '--', '--', '--', '--', '--', '--', '--', '--', '--', '--', '--', '--', '--', '--', '--', '--', '--', '--', '--', '--', '--', '--', 'Despegado (04:37)', 'Despegado (04:59)', 'Despegado (04:56)', 'Despegado (05:11)', 'Despegado (05:08)', 'Despegado (05:27)', 'Despegado (05:51)', 'Despegado (06:11)', 'Despegado (06:04)', 'Despegado (06:08)', 'Despegado (06:17)', 'Despegado (06:23)', 'Despegado (06:50)', 'Despegado (06:38)', 'Despegado (06:58)', 'Despegado (07:02)', 'Despegado (07:11)', 'Despegado (07:17)', 'Despegado (07:15)', 'Despegado (07:31)', 'Despegado (07:39)', 'Despegado (07:50)', 'Despegado (07:52)', 'Despegado (08:06)', 'Despegado (08:05)', 'Despegado (08:18)', 'Despegado (08:25)', 'Despegado (08:32)', 'Despegado (08:42)', 'Despegado (08:38)', 'Despegado (08:55)', 'Despegado (09:00)', 'Despegado (09:31)', 'Despegado (09:18)', 'Despegado (09:55)', 'Despegado (09:34)', 'Despegado (10:22)', 'Despegado (10:15)', 'Despegado (10:17)', 'Despegado (10:30)', 'Despegado (10:55)', 'Despegado (10:41)', 'Despegado (11:02)', 'Despegado (11:15)', 'Despegado (10:57)', 'Despegado (11:19)', 'Despegado (11:23)', 'Despegado (11:42)', 'Despegado (11:39)', 'Despegado (12:09)', 'Despegado (12:12)', 'Despegado (12:13)', 'Despegado (12:26)', 'Despegado (12:28)', 'Despegado (12:18)', 'Despegado (12:38)', 'Despegado (12:32)', 'Despegado (12:44)', 'Despegado (12:55)', 'Despegado (13:00)', 'Despegado (13:17)', 'Despegado (13:24)', 'Despegado (13:35)', 'Despegado (13:56)', 'Despegado (14:06)', 'Despegado (14:09)', 'Pre Embarque', 'Embarcando', 'Ultimo aviso', 'Pre Embarque', 'En Horario', 'En Horario', 'En Horario', 'En Horario', 'En Horario', 'En Horario', 'En Horario', 'En Horario', 'En Horario', 'En Horario', 'En Horario', 'En Horario', 'En Horario', 'En Horario', 'En Horario', 'En Horario', 'En Horario', 'En Horario', 'Estima', 'En Horario', 'En Horario', 'En Horario', 'En Horario', 'En Horario', 'En Horario', 'En Horario', 'En Horario', 'En Horario', 'En Horario', 'En Horario', 'En Horario', 'En Horario', 'En Horario', 'En Horario', 'En Horario', 'En Horario', 'En Horario', 'En Horario', 'En Horario', 'En Horario', 'En Horario', 'En Horario', 'En Horario', 'En Horario', 'En Horario', 'En Horario', 'En Horario', 'En Horario', 'En Horario', 'En Horario', 'En Horario']\n"
     ]
    }
   ],
   "source": [
    "status = list()\n",
    "sta = soup.find_all('div', class_='statusText')\n",
    "for k in sta:\n",
    "    status.append(k.text)\n",
    "\n",
    "print(status)"
   ]
  },
  {
   "cell_type": "code",
   "execution_count": 46,
   "id": "fe051409",
   "metadata": {},
   "outputs": [
    {
     "name": "stdout",
     "output_type": "stream",
     "text": [
      "['23:45', '00:04', '', '00:43', '00:22', '00:31', '00:21', '01:33', '02:00', '01:31', '03:34', '03:45', '03:32', '04:25', '04:26', '04:55', '05:36', '05:18', '05:49', '06:35', '09:00', '09:37', '09:50', '10:00', '10:07', '10:15', '10:25', '10:12', '10:08', '10:26', '10:36', '10:45', '11:02', '11:10', '11:15', '', '11:10', '11:15', '11:35', '12:00', '12:10', '12:14', '12:25', '12:32', '12:25', '12:50', '12:55', '12:55', '13:00', '13:15', '13:29', '13:25', '', '', '14:20', '14:25', '14:27', '14:35', '14:55', '15:23', '', '', '', '15:39', '', '', '', '', '16:49', '', '', '', '16:46', '', '', '', '', '', '', '', '', '', '', '', '', '', '', '', '', '', '', '', '', '', '', '', '', '', '', '', '', '', '', '', '', '', '', '', '', '', '', '', '', '', '', '', '', '', '', '', '', '', '', '', '', '', '', '', '', '', '', '', '', '', '', '', '', '', '', '', '', '', '', '', '', '', '', '', '', '', '', '', '', '', '', '', '', '09:55', '', '', '', '', '', '', '', '', '', '', '', '', '', '', '', '', '', '', '', '', '', '', '', '', '', '', '', '', '', '', '', '', '', '', '', '', '', '', '', '', '', '', '', '', '', '', '', '', '', '', '', '', '', '17:50', '', '', '', '', '', '', '', '', '', '', '', '', '', '', '', '', '', '', '', '', '', '', '', '', '', '', '', '', '', '', '', '']\n"
     ]
    }
   ],
   "source": [
    "estima = list()\n",
    "est = soup.find_all('td', class_='estima')\n",
    "for l in est:\n",
    "    estima.append(l.text)\n",
    "\n",
    "print(estima)"
   ]
  },
  {
   "cell_type": "code",
   "execution_count": 47,
   "id": "d6f5cebf",
   "metadata": {},
   "outputs": [
    {
     "name": "stdout",
     "output_type": "stream",
     "text": [
      "['\\nAerolineas Argentinas', '\\nAerolineas Argentinas', '\\nJetsmart Airlines S.a.', '\\nAerolineas Argentinas', '\\nAerolineas Argentinas', '\\nAerolineas Argentinas', '\\nAerolineas Argentinas', '\\nAerolineas Argentinas', '\\nFlybondi Lineas Areas', '\\nAerolineas Argentinas', '\\nAerolineas Argentinas', '\\nAerolineas Argentinas', '\\nAerolineas Argentinas', '\\nAerolineas Argentinas', '\\nAerolineas Argentinas', '\\nAerolineas Argentinas', '\\nAerolineas Argentinas', '\\nAerolineas Argentinas', '\\nAerolineas Argentinas', '\\nLatam Chile', '\\nAerolineas Argentinas', '\\nGol', '\\nFlybondi Lineas Areas', '\\nAerolineas Argentinas', '\\nAerolineas Argentinas', '\\nAerolineas Argentinas', '\\nLatam Chile', '\\nAerolineas Argentinas', '\\nAerolineas Argentinas', '\\nAerolineas Argentinas', '\\nAerolineas Argentinas', '\\nJetsmart Airlines S.a.', '\\nJetsmart Airlines S.a.', '\\nAerolineas Argentinas', '\\nAerolineas Argentinas', '\\nLatam Chile', '\\nFlybondi Lineas Areas', '\\nJetsmart Airlines S.a.', '\\nFlybondi Lineas Areas', '\\nFlybondi Lineas Areas', '\\nJetsmart Airlines S.a.', '\\nAerolineas Argentinas', '\\nAerolineas Argentinas', '\\nJetsmart Airlines S.a.', '\\nAerolineas Argentinas', '\\nAerolineas Argentinas', '\\nAerolineas Argentinas', '\\nAerolineas Argentinas', '\\nAerolineas Argentinas', '\\nAerolineas Argentinas', '\\nAerolineas Argentinas', '\\nAerolineas Argentinas', '\\nAerolineas Argentinas', '\\nAerolineas Argentinas', '\\nAerolineas Argentinas', '\\nAerolineas Argentinas', '\\nGol', '\\nAerolineas Argentinas', '\\nAerolineas Argentinas', '\\nAerolineas Argentinas', '\\nJetsmart Airlines S.a.', '\\nAerolineas Argentinas', '\\nJetsmart Airlines S.a.', '\\nAerolineas Argentinas', '\\nAerolineas Argentinas', '\\nAerolineas Argentinas', '\\nFlybondi Lineas Areas', '\\nAerolineas Argentinas', '\\nAerolineas Argentinas', '\\nAerolineas Argentinas', '\\nLatam Chile', '\\nAerolineas Argentinas', '\\nAerolineas Argentinas', '\\nAerolineas Argentinas', '\\nAerolineas Argentinas', '\\nFlybondi Lineas Areas', '\\nLatam Chile', '\\nAerolineas Argentinas', '\\nFlybondi Lineas Areas', '\\nGol', '\\nJetsmart Airlines S.a.', '\\nAerolineas Argentinas', '\\nAerolineas Argentinas', '\\nAerolineas Argentinas', '\\nJetsmart Airlines S.a.', '\\nJetsmart Airlines S.a.', '\\nAerolineas Argentinas', '\\nAerolineas Argentinas', '\\nFlybondi Lineas Areas', '\\nFlybondi Lineas Areas', '\\nAerolineas Argentinas', '\\nAerolineas Argentinas', '\\nJetsmart Chile', '\\nAerolineas Argentinas', '\\nAerolineas Argentinas', '\\nAerolineas Argentinas', '\\nAerolineas Argentinas', '\\nParanair', '\\nAerolineas Argentinas', '\\nAerolineas Argentinas', '\\nAerolineas Argentinas', '\\nAerolineas Argentinas', '\\nAerolineas Argentinas', '\\nAerolineas Argentinas', '\\nAerolineas Argentinas', '\\nAmerican Jet', '\\nJetsmart Airlines S.a.', '\\nAerolineas Argentinas', '\\nAerolineas Argentinas', '\\nAerolineas Argentinas', '\\nFlybondi Lineas Areas', '\\nAerolineas Argentinas', '\\nAerolineas Argentinas', '\\nAerolineas Argentinas', '\\nAerolineas Argentinas', '\\nAerolineas Argentinas', '\\nAerolineas Argentinas', '\\nAerolineas Argentinas', '\\nAerolineas Argentinas', '\\nAerolineas Argentinas', '\\nJetsmart Airlines S.a.', '\\nAerolineas Argentinas', '\\nFlybondi Lineas Areas', '\\n\\nAerolineas Argentinas', '\\n\\nAerolineas Argentinas', '\\n\\nAerolineas Argentinas', '\\n\\nJetsmart Airlines S.a.', '\\n\\nAerolineas Argentinas', '\\n\\nJetsmart Airlines S.a.', '\\n\\nFlybondi Lineas Areas', '\\n\\nJetsmart Airlines S.a.', '\\n\\nAerolineas Argentinas', '\\n\\nAerolineas Argentinas', '\\n\\nAerolineas Argentinas', '\\n\\nAerolineas Argentinas', '\\n\\nAerolineas Argentinas', '\\n\\nAerolineas Argentinas', '\\n\\nAerolineas Argentinas', '\\n\\nJetsmart Airlines S.a.', '\\n\\nFlybondi Lineas Areas', '\\n\\nAerolineas Argentinas', '\\n\\nAerolineas Argentinas', '\\n\\nFlybondi Lineas Areas', '\\n\\nAerolineas Argentinas', '\\n\\nAerolineas Argentinas', '\\n\\nAerolineas Argentinas', '\\n\\nAerolineas Argentinas', '\\n\\nLatam Chile', '\\n\\nAerolineas Argentinas', '\\n\\nAerolineas Argentinas', '\\n\\nAerolineas Argentinas', '\\n\\nAerolineas Argentinas', '\\n\\nAerolineas Argentinas', '\\n\\nAerolineas Argentinas', '\\n\\nAerolineas Argentinas', '\\n\\nAerolineas Argentinas', '\\n\\nAerolineas Argentinas', '\\n\\nAerolineas Argentinas', '\\n\\nAerolineas Argentinas', '\\n\\nAerolineas Argentinas', '\\n\\nAerolineas Argentinas', '\\n\\nAerolineas Argentinas', '\\n\\nAerolineas Argentinas', '\\n\\nGol', '\\n\\nAerolineas Argentinas', '\\n\\nAerolineas Argentinas', '\\n\\nAerolineas Argentinas', '\\n\\nFlybondi Lineas Areas', '\\n\\nAerolineas Argentinas', '\\n\\nAerolineas Argentinas', '\\n\\nLatam Chile', '\\n\\nAerolineas Argentinas', '\\n\\nJetsmart Airlines S.a.', '\\n\\nAerolineas Argentinas', '\\n\\nAerolineas Argentinas', '\\n\\nJetsmart Airlines S.a.', '\\n\\nAerolineas Argentinas', '\\n\\nAerolineas Argentinas', '\\n\\nLatam Chile', '\\n\\nAerolineas Argentinas', '\\n\\nFlybondi Lineas Areas', '\\n\\nFlybondi Lineas Areas', '\\n\\nAerolineas Argentinas', '\\n\\nAerolineas Argentinas', '\\n\\nAerolineas Argentinas', '\\n\\nAerolineas Argentinas', '\\n\\nFlybondi Lineas Areas', '\\n\\nJetsmart Airlines S.a.', '\\n\\nAerolineas Argentinas', '\\n\\nAerolineas Argentinas', '\\n\\nAerolineas Argentinas', '\\n\\nJetsmart Airlines S.a.', '\\n\\nAerolineas Argentinas', '\\n\\nAerolineas Argentinas', '\\n\\nAerolineas Argentinas', '\\n\\nJetsmart Airlines S.a.', '\\n\\nAerolineas Argentinas', '\\n\\nAerolineas Argentinas', '\\n\\nAerolineas Argentinas', '\\n\\nJetsmart Airlines S.a.', '\\n\\nGol', '\\n\\nAerolineas Argentinas', '\\n\\nJetsmart Airlines S.a.', '\\n\\nAerolineas Argentinas', '\\n\\nAerolineas Argentinas', '\\n\\nAerolineas Argentinas', '\\n\\nFlybondi Lineas Areas', '\\n\\nAerolineas Argentinas', '\\n\\nAerolineas Argentinas', '\\n\\nLatam Chile', '\\n\\nAerolineas Argentinas', '\\n\\nAmerican Jet', '\\n\\nAerolineas Argentinas', '\\n\\nAerolineas Argentinas', '\\n\\nAerolineas Argentinas', '\\n\\nAerolineas Argentinas', '\\n\\nAerolineas Argentinas', '\\n\\nAerolineas Argentinas', '\\n\\nFlybondi Lineas Areas', '\\n\\nFlybondi Lineas Areas', '\\n\\nAerolineas Argentinas', '\\n\\nJetsmart Airlines S.a.', '\\n\\nAerolineas Argentinas', '\\n\\nGol', '\\n\\nAerolineas Argentinas', '\\n\\nLatam Chile', '\\n\\nJetsmart Airlines S.a.', '\\n\\nAerolineas Argentinas', '\\n\\nJetsmart Airlines S.a.', '\\n\\nAerolineas Argentinas', '\\n\\nAerolineas Argentinas', '\\n\\nAerolineas Argentinas', '\\n\\nAerolineas Argentinas', '\\n\\nFlybondi Lineas Areas', '\\n\\nFlybondi Lineas Areas', '\\n\\nJetsmart Chile', '\\n\\nAerolineas Argentinas', '\\n\\nAerolineas Argentinas', '\\n\\nParanair', '\\n\\nAerolineas Argentinas', '\\n\\nAerolineas Argentinas', '\\n\\nAerolineas Argentinas', '\\n\\nFlybondi Lineas Areas', '\\n\\nAerolineas Argentinas']\n"
     ]
    }
   ],
   "source": [
    "linea = list()\n",
    "lin = soup.find_all('td', class_='linea')\n",
    "for m in lin:\n",
    "    linea.append(m.text)\n",
    "\n",
    "print(linea)"
   ]
  },
  {
   "cell_type": "code",
   "execution_count": 48,
   "id": "150197fa",
   "metadata": {},
   "outputs": [],
   "source": [
    "dataframe = pd.DataFrame({'Cia Aérea':linea,'Nro vuelo':vuelos,'Origen/Destino':origen,'Estatus':status,'Estima':estima})"
   ]
  },
  {
   "cell_type": "code",
   "execution_count": 49,
   "id": "ddd447e5",
   "metadata": {},
   "outputs": [
    {
     "data": {
      "text/html": [
       "<div>\n",
       "<style scoped>\n",
       "    .dataframe tbody tr th:only-of-type {\n",
       "        vertical-align: middle;\n",
       "    }\n",
       "\n",
       "    .dataframe tbody tr th {\n",
       "        vertical-align: top;\n",
       "    }\n",
       "\n",
       "    .dataframe thead th {\n",
       "        text-align: right;\n",
       "    }\n",
       "</style>\n",
       "<table border=\"1\" class=\"dataframe\">\n",
       "  <thead>\n",
       "    <tr style=\"text-align: right;\">\n",
       "      <th></th>\n",
       "      <th>Cia Aérea</th>\n",
       "      <th>Nro vuelo</th>\n",
       "      <th>Origen/Destino</th>\n",
       "      <th>Estatus</th>\n",
       "      <th>Estima</th>\n",
       "    </tr>\n",
       "  </thead>\n",
       "  <tbody>\n",
       "    <tr>\n",
       "      <th>0</th>\n",
       "      <td>\\nAerolineas Argentinas</td>\n",
       "      <td>AR 1871</td>\n",
       "      <td>El Calafate</td>\n",
       "      <td>Aterrizado (23:45)</td>\n",
       "      <td>23:45</td>\n",
       "    </tr>\n",
       "    <tr>\n",
       "      <th>1</th>\n",
       "      <td>\\nAerolineas Argentinas</td>\n",
       "      <td>AR 1473</td>\n",
       "      <td>Jujuy</td>\n",
       "      <td>Aterrizado (23:54)</td>\n",
       "      <td>00:04</td>\n",
       "    </tr>\n",
       "    <tr>\n",
       "      <th>2</th>\n",
       "      <td>\\nJetsmart Airlines S.a.</td>\n",
       "      <td>WJ 3243</td>\n",
       "      <td>Mendoza</td>\n",
       "      <td>Aterrizado (00:19)</td>\n",
       "      <td></td>\n",
       "    </tr>\n",
       "    <tr>\n",
       "      <th>3</th>\n",
       "      <td>\\nAerolineas Argentinas</td>\n",
       "      <td>AR 1491</td>\n",
       "      <td>Santiago del Estero</td>\n",
       "      <td>Aterrizado (00:41)</td>\n",
       "      <td>00:43</td>\n",
       "    </tr>\n",
       "    <tr>\n",
       "      <th>4</th>\n",
       "      <td>\\nAerolineas Argentinas</td>\n",
       "      <td>AR 1687</td>\n",
       "      <td>Bariloche</td>\n",
       "      <td>Aterrizado (00:12)</td>\n",
       "      <td>00:22</td>\n",
       "    </tr>\n",
       "    <tr>\n",
       "      <th>...</th>\n",
       "      <td>...</td>\n",
       "      <td>...</td>\n",
       "      <td>...</td>\n",
       "      <td>...</td>\n",
       "      <td>...</td>\n",
       "    </tr>\n",
       "    <tr>\n",
       "      <th>239</th>\n",
       "      <td>\\n\\nAerolineas Argentinas</td>\n",
       "      <td>AR 1262</td>\n",
       "      <td>Río de Janeiro</td>\n",
       "      <td>En Horario</td>\n",
       "      <td></td>\n",
       "    </tr>\n",
       "    <tr>\n",
       "      <th>240</th>\n",
       "      <td>\\n\\nAerolineas Argentinas</td>\n",
       "      <td>AR 1824</td>\n",
       "      <td>Comodoro Rivadavia</td>\n",
       "      <td>En Horario</td>\n",
       "      <td></td>\n",
       "    </tr>\n",
       "    <tr>\n",
       "      <th>241</th>\n",
       "      <td>\\n\\nAerolineas Argentinas</td>\n",
       "      <td>AR 1368</td>\n",
       "      <td>Santa Cruz de la Sierra</td>\n",
       "      <td>En Horario</td>\n",
       "      <td></td>\n",
       "    </tr>\n",
       "    <tr>\n",
       "      <th>242</th>\n",
       "      <td>\\n\\nFlybondi Lineas Areas</td>\n",
       "      <td>FO 5276</td>\n",
       "      <td>Bariloche</td>\n",
       "      <td>En Horario</td>\n",
       "      <td></td>\n",
       "    </tr>\n",
       "    <tr>\n",
       "      <th>243</th>\n",
       "      <td>\\n\\nAerolineas Argentinas</td>\n",
       "      <td>AR 1340</td>\n",
       "      <td>Asunción</td>\n",
       "      <td>En Horario</td>\n",
       "      <td></td>\n",
       "    </tr>\n",
       "  </tbody>\n",
       "</table>\n",
       "<p>244 rows × 5 columns</p>\n",
       "</div>"
      ],
      "text/plain": [
       "                     Cia Aérea Nro vuelo           Origen/Destino  \\\n",
       "0      \\nAerolineas Argentinas   AR 1871              El Calafate   \n",
       "1      \\nAerolineas Argentinas   AR 1473                    Jujuy   \n",
       "2     \\nJetsmart Airlines S.a.   WJ 3243                  Mendoza   \n",
       "3      \\nAerolineas Argentinas   AR 1491      Santiago del Estero   \n",
       "4      \\nAerolineas Argentinas   AR 1687                Bariloche   \n",
       "..                         ...       ...                      ...   \n",
       "239  \\n\\nAerolineas Argentinas   AR 1262           Río de Janeiro   \n",
       "240  \\n\\nAerolineas Argentinas   AR 1824       Comodoro Rivadavia   \n",
       "241  \\n\\nAerolineas Argentinas   AR 1368  Santa Cruz de la Sierra   \n",
       "242  \\n\\nFlybondi Lineas Areas   FO 5276                Bariloche   \n",
       "243  \\n\\nAerolineas Argentinas   AR 1340                 Asunción   \n",
       "\n",
       "                Estatus Estima  \n",
       "0    Aterrizado (23:45)  23:45  \n",
       "1    Aterrizado (23:54)  00:04  \n",
       "2    Aterrizado (00:19)         \n",
       "3    Aterrizado (00:41)  00:43  \n",
       "4    Aterrizado (00:12)  00:22  \n",
       "..                  ...    ...  \n",
       "239          En Horario         \n",
       "240          En Horario         \n",
       "241          En Horario         \n",
       "242          En Horario         \n",
       "243          En Horario         \n",
       "\n",
       "[244 rows x 5 columns]"
      ]
     },
     "execution_count": 49,
     "metadata": {},
     "output_type": "execute_result"
    }
   ],
   "source": [
    "dataframe"
   ]
  },
  {
   "cell_type": "code",
   "execution_count": 50,
   "id": "42a8a968",
   "metadata": {},
   "outputs": [
    {
     "ename": "SyntaxError",
     "evalue": "invalid syntax. Perhaps you forgot a comma? (4034929049.py, line 1)",
     "output_type": "error",
     "traceback": [
      "\u001b[0;36m  Input \u001b[0;32mIn [50]\u001b[0;36m\u001b[0m\n\u001b[0;31m    print(dataframe.Nro vuelo[AR])\u001b[0m\n\u001b[0m          ^\u001b[0m\n\u001b[0;31mSyntaxError\u001b[0m\u001b[0;31m:\u001b[0m invalid syntax. Perhaps you forgot a comma?\n"
     ]
    }
   ],
   "source": [
    "print(dataframe.Nro vuelo[AR])"
   ]
  },
  {
   "cell_type": "code",
   "execution_count": 52,
   "id": "53d52e6f",
   "metadata": {},
   "outputs": [
    {
     "data": {
      "text/html": [
       "<div>\n",
       "<style scoped>\n",
       "    .dataframe tbody tr th:only-of-type {\n",
       "        vertical-align: middle;\n",
       "    }\n",
       "\n",
       "    .dataframe tbody tr th {\n",
       "        vertical-align: top;\n",
       "    }\n",
       "\n",
       "    .dataframe thead th {\n",
       "        text-align: right;\n",
       "    }\n",
       "</style>\n",
       "<table border=\"1\" class=\"dataframe\">\n",
       "  <thead>\n",
       "    <tr style=\"text-align: right;\">\n",
       "      <th></th>\n",
       "      <th>Cia Aérea</th>\n",
       "      <th>Nro vuelo</th>\n",
       "      <th>Origen/Destino</th>\n",
       "      <th>Estatus</th>\n",
       "      <th>Estima</th>\n",
       "    </tr>\n",
       "  </thead>\n",
       "  <tbody>\n",
       "    <tr>\n",
       "      <th>count</th>\n",
       "      <td>244</td>\n",
       "      <td>244</td>\n",
       "      <td>244</td>\n",
       "      <td>244</td>\n",
       "      <td>244</td>\n",
       "    </tr>\n",
       "    <tr>\n",
       "      <th>unique</th>\n",
       "      <td>16</td>\n",
       "      <td>239</td>\n",
       "      <td>43</td>\n",
       "      <td>126</td>\n",
       "      <td>58</td>\n",
       "    </tr>\n",
       "    <tr>\n",
       "      <th>top</th>\n",
       "      <td>\\nAerolineas Argentinas</td>\n",
       "      <td>AR 1696</td>\n",
       "      <td>Mendoza</td>\n",
       "      <td>--</td>\n",
       "      <td></td>\n",
       "    </tr>\n",
       "    <tr>\n",
       "      <th>freq</th>\n",
       "      <td>87</td>\n",
       "      <td>2</td>\n",
       "      <td>21</td>\n",
       "      <td>60</td>\n",
       "      <td>183</td>\n",
       "    </tr>\n",
       "  </tbody>\n",
       "</table>\n",
       "</div>"
      ],
      "text/plain": [
       "                      Cia Aérea Nro vuelo Origen/Destino Estatus Estima\n",
       "count                       244       244            244     244    244\n",
       "unique                       16       239             43     126     58\n",
       "top     \\nAerolineas Argentinas   AR 1696        Mendoza      --       \n",
       "freq                         87         2             21      60    183"
      ]
     },
     "execution_count": 52,
     "metadata": {},
     "output_type": "execute_result"
    }
   ],
   "source": [
    "dataframe.describe()"
   ]
  },
  {
   "cell_type": "code",
   "execution_count": 73,
   "id": "53abb1c4",
   "metadata": {},
   "outputs": [
    {
     "data": {
      "text/plain": [
       "0      AR 1871\n",
       "1      AR 1473\n",
       "2      WJ 3243\n",
       "3      AR 1491\n",
       "4      AR 1687\n",
       "        ...   \n",
       "239    AR 1262\n",
       "240    AR 1824\n",
       "241    AR 1368\n",
       "242    FO 5276\n",
       "243    AR 1340\n",
       "Name: Nro vuelo, Length: 244, dtype: object"
      ]
     },
     "execution_count": 73,
     "metadata": {},
     "output_type": "execute_result"
    }
   ],
   "source": [
    "dataframe['Nro vuelo']"
   ]
  },
  {
   "cell_type": "code",
   "execution_count": null,
   "id": "3cdf1e68",
   "metadata": {},
   "outputs": [],
   "source": []
  }
 ],
 "metadata": {
  "kernelspec": {
   "display_name": "Python 3 (ipykernel)",
   "language": "python",
   "name": "python3"
  },
  "language_info": {
   "codemirror_mode": {
    "name": "ipython",
    "version": 3
   },
   "file_extension": ".py",
   "mimetype": "text/x-python",
   "name": "python",
   "nbconvert_exporter": "python",
   "pygments_lexer": "ipython3",
   "version": "3.10.2"
  }
 },
 "nbformat": 4,
 "nbformat_minor": 5
}
