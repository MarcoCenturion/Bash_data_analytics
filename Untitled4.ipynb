{
 "cells": [
  {
   "cell_type": "code",
   "execution_count": null,
   "id": "8076439a-fba2-4452-a5e8-f7fa659440cc",
   "metadata": {},
   "outputs": [],
   "source": []
  }
 ],
 "metadata": {
  "kernelspec": {
   "display_name": "",
   "name": ""
  },
  "language_info": {
   "name": ""
  }
 },
 "nbformat": 4,
 "nbformat_minor": 5
}
