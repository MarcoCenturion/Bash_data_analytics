{
 "cells": [
  {
   "cell_type": "code",
   "execution_count": 6,
   "id": "6e9a551c",
   "metadata": {},
   "outputs": [],
   "source": [
    "import PIL.Image\n",
    "\n",
    "def main():\n",
    "    path = input(\"indio1.jpg\")\n",
    "    try:\n",
    "        image = PIL.Image.open(path)\n",
    "    except:\n",
    "        print(path, \"Unable to find image \");"
   ]
  },
  {
   "cell_type": "code",
   "execution_count": 7,
   "id": "56bac4fe",
   "metadata": {},
   "outputs": [],
   "source": [
    "ASCII_CHARS = [\"@\", \"#\", \"$\", \"%\", \"?\", \"*\", \"+\", \";\", \":\", \",\", \".\"]"
   ]
  },
  {
   "cell_type": "code",
   "execution_count": 8,
   "id": "8a9e86da",
   "metadata": {},
   "outputs": [],
   "source": [
    "def resize(image, new_width = 100):\n",
    "    width, height = image.size\n",
    "    new_height = new_width * height / width\n",
    "    return image.resize((new_width, new_height))"
   ]
  },
  {
   "cell_type": "code",
   "execution_count": 9,
   "id": "f73bf8b3",
   "metadata": {},
   "outputs": [],
   "source": [
    "def to_greyscale(image):\n",
    "    return image.convert(\"L\")"
   ]
  },
  {
   "cell_type": "code",
   "execution_count": 10,
   "id": "ef26a164",
   "metadata": {},
   "outputs": [],
   "source": [
    "def pixel_to_ascii(image):\n",
    "    pixels = image.getdata()\n",
    "    ascii_str = \"\";\n",
    "    for pixel in pixels:\n",
    "        ascii_str += ASCII_CHARS[pixel//25];\n",
    "    return ascii_str"
   ]
  },
  {
   "cell_type": "code",
   "execution_count": 11,
   "id": "360c2f31",
   "metadata": {},
   "outputs": [
    {
     "ename": "NameError",
     "evalue": "name 'ascii_str' is not defined",
     "output_type": "error",
     "traceback": [
      "\u001b[0;31m---------------------------------------------------------------------------\u001b[0m",
      "\u001b[0;31mNameError\u001b[0m                                 Traceback (most recent call last)",
      "Input \u001b[0;32mIn [11]\u001b[0m, in \u001b[0;36m<cell line: 1>\u001b[0;34m()\u001b[0m\n\u001b[0;32m----> 1\u001b[0m \u001b[38;5;28mprint\u001b[39m(\u001b[43mascii_str\u001b[49m)\n",
      "\u001b[0;31mNameError\u001b[0m: name 'ascii_str' is not defined"
     ]
    }
   ],
   "source": [
    "print(ascii_str)"
   ]
  },
  {
   "cell_type": "code",
   "execution_count": null,
   "id": "4843887e",
   "metadata": {},
   "outputs": [],
   "source": []
  }
 ],
 "metadata": {
  "kernelspec": {
   "display_name": "Python 3 (ipykernel)",
   "language": "python",
   "name": "python3"
  },
  "language_info": {
   "codemirror_mode": {
    "name": "ipython",
    "version": 3
   },
   "file_extension": ".py",
   "mimetype": "text/x-python",
   "name": "python",
   "nbconvert_exporter": "python",
   "pygments_lexer": "ipython3",
   "version": "3.10.5"
  }
 },
 "nbformat": 4,
 "nbformat_minor": 5
}
